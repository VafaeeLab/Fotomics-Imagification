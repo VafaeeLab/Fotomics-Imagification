{
  "nbformat": 4,
  "nbformat_minor": 0,
  "metadata": {
    "colab": {
      "name": "cputime_1third_fft.ipynb",
      "provenance": [],
      "machine_shape": "hm"
    },
    "kernelspec": {
      "name": "python3",
      "display_name": "Python 3"
    },
    "language_info": {
      "name": "python"
    }
  },
  "cells": [
    {
      "cell_type": "code",
      "metadata": {
        "colab": {
          "base_uri": "https://localhost:8080/"
        },
        "id": "1I3KBW0Eak6O",
        "outputId": "8423710f-be49-49b2-c9b2-1d974e8e5c46"
      },
      "source": [
        "from google.colab import drive \n",
        "drive.mount('/content/drive/')"
      ],
      "execution_count": null,
      "outputs": [
        {
          "output_type": "stream",
          "name": "stdout",
          "text": [
            "Mounted at /content/drive/\n"
          ]
        }
      ]
    },
    {
      "cell_type": "code",
      "metadata": {
        "id": "mvy3N8OL_Rnj"
      },
      "source": [
        "import numpy as np\n",
        "import pandas as pd\n",
        "from scipy.spatial import ConvexHull\n",
        "from matplotlib import pyplot as plt\n",
        "import inspect\n",
        "from numpy.fft import fft\n",
        "from numpy.fft import fftshift\n",
        "\n",
        "\n",
        "class LogScaler:\n",
        "    #Log normalization and data scaling\n",
        "    \n",
        "    def __init__(self):\n",
        "        self._min0 = None\n",
        "        self._max = None\n",
        "        pass\n",
        "\n",
        "    def fit(self, X, y=None):\n",
        "        self._min0 = X.min(axis=0)\n",
        "        self._max = np.log(X + np.abs(self._min0) + 1).max()\n",
        "\n",
        "    def fit_transform(self, X, y=None):\n",
        "        self._min0 = X.min(axis=0)\n",
        "        X_norm = np.log(X + np.abs(self._min0) + 1)\n",
        "        self._max = X_norm.max()\n",
        "        return X_norm / self._max\n",
        "\n",
        "    def transform(self, X, y=None):\n",
        "        X_norm = np.log(X + np.abs(self._min0) + 1).clip(0, None)\n",
        "        return (X_norm / self._max).clip(0, 1)\n",
        "\n",
        "\n",
        "class FftTransformer:\n",
        "    # Image transformer based on fast fourier transform\n",
        "\n",
        "    def __init__(self, pixels=124):\n",
        "        if isinstance(pixels, int):\n",
        "            pixels = (pixels, pixels)\n",
        "        self._pixels = pixels\n",
        "        self._xrot = None\n",
        "\n",
        "    def fft_fit(self,X):     \n",
        "        z1_lst=[]\n",
        "        z2_lst=[]\n",
        "\n",
        "        for cur_x in range(len(X)):\n",
        "            x_ft = fftshift(fft(X[cur_x]))\n",
        "                 \n",
        "            real_lst =[0]*len(x_ft)\n",
        "            imag_lst= [0]*len(x_ft)\n",
        "\n",
        "            for i in range(len(x_ft)):\n",
        "                real_lst[i] = x_ft[i].real\n",
        "                imag_lst[i] = x_ft[i].imag\n",
        "\n",
        "            q1, q3 = np.percentile(sorted(real_lst), [10, 90])\n",
        "            iqr = q3 - q1\n",
        "    \n",
        "            # find lower and upper bounds\n",
        "            lower_bound = q1 - (1.5 * iqr)\n",
        "            upper_bound = q3 + (1.5 * iqr)\n",
        "\n",
        "            outliers=[]\n",
        "            outliers_idx=[]\n",
        "            for i in range(len(real_lst)):\n",
        "                if real_lst[i] <= lower_bound or real_lst[i] >= upper_bound:\n",
        "                    outliers.append(real_lst[i])\n",
        "                    outliers_idx.append(i)\n",
        "            \n",
        "            for i in range(len(outliers_idx)):\n",
        "                real_lst[outliers_idx[i]]=0\n",
        "            \n",
        "            # imag \n",
        "            q1, q3 = np.percentile(sorted(imag_lst), [10, 90])\n",
        "            iqr = q3 - q1\n",
        "    \n",
        "            # find lower and upper bounds\n",
        "            lower_bound = q1 - (1.5 * iqr)\n",
        "            upper_bound = q3 + (1.5 * iqr)\n",
        "\n",
        "            outliers=[]\n",
        "            outliers_idx=[]\n",
        "            for i in range(len(imag_lst)):\n",
        "                if imag_lst[i] <= lower_bound or imag_lst[i] >= upper_bound:\n",
        "                    outliers.append(imag_lst[i])\n",
        "                    outliers_idx.append(i)\n",
        "            \n",
        "            for i in range(len(outliers_idx)):\n",
        "                imag_lst[outliers_idx[i]]=0\n",
        "\n",
        "            z1_lst.append(np.array(real_lst))\n",
        "            z2_lst.append(np.array(imag_lst))\n",
        "    \n",
        "        z1_lst = np.mean(np.array(z1_lst),axis=0) \n",
        "        z2_lst = np.mean(np.array(z2_lst),axis=0)\n",
        "\n",
        "        real_mt = np.empty(shape=(x_ft.shape[0],1))\n",
        "        real_mt.fill(0)\n",
        "        imag_mt = np.empty(shape=(x_ft.shape[0],1))\n",
        "        imag_mt.fill(0)\n",
        "\n",
        "        for i in range(len(x_ft)):\n",
        "            cur_real = z1_lst[i]\n",
        "            real_mt[i] = cur_real\n",
        "\n",
        "            cur_imag = z2_lst[i]\n",
        "            imag_mt[i] = cur_imag\n",
        "\n",
        "        z1 = real_mt\n",
        "        z2 = imag_mt\n",
        "        full_mt = np.hstack((z1,z2))\n",
        "    \n",
        "        return full_mt\n",
        "\n",
        "    def fit(self, X, y=None, plot=False):\n",
        "        x_new = self.fft_fit(X)        \n",
        "\n",
        "        # get the convex hull for the points\n",
        "        chvertices = ConvexHull(x_new).vertices\n",
        "\n",
        "        hull_points = x_new[chvertices]\n",
        "\n",
        "        # get minimum bounding rectangle\n",
        "        mbr, mbr_rot = self._minimum_bounding_rectangle(hull_points)\n",
        "        \n",
        "        # matrix rotation\n",
        "        self._xrot = np.dot(mbr_rot, x_new.T).T\n",
        "        \n",
        "        # get feature coordinates from pixel dimension\n",
        "        self._calculate_coords()\n",
        "\n",
        "        #  rotation diagram plot\n",
        "        if plot is True:\n",
        "            plt.scatter(x_new[:, 0], x_new[:, 1], s=1,\n",
        "                        cmap=plt.cm.get_cmap(\"jet\", 10), alpha=0.2)\n",
        "            plt.fill(x_new[chvertices, 0], x_new[chvertices, 1],\n",
        "                     edgecolor='r', fill=False)\n",
        "            plt.fill(mbr[:, 0], mbr[:, 1], edgecolor='g', fill=False)\n",
        "            plt.gca().set_aspect('equal', adjustable='box')\n",
        "            plt.show()\n",
        "        return self\n",
        "\n",
        "    @property\n",
        "    def pixels(self):\n",
        "        # Image matrix dimensions\n",
        "        # Returns:\n",
        "        #     tuples: (height, width)\n",
        "\n",
        "        return self._pixels\n",
        "\n",
        "    @pixels.setter\n",
        "    def pixels(self, pixels):\n",
        "        # set image matrix dimension\n",
        "\n",
        "        if isinstance(pixels, int):\n",
        "            pixels = (pixels, pixels)\n",
        "        self._pixels = pixels\n",
        "        # recalculate coordinates if already fit\n",
        "        if hasattr(self, '_coords'):\n",
        "            self._calculate_coords()\n",
        "\n",
        "    def _calculate_coords(self):\n",
        "\n",
        "        # Calculate matrix coordinates of each feature based on the pixel dimensions\n",
        "\n",
        "\n",
        "        cur_xrp = self._xrot[:, 0]\n",
        "        cur_yrp = self._xrot[:, 1] \n",
        "\n",
        "        ax0_coord = np.digitize(\n",
        "            cur_xrp,\n",
        "            bins=np.linspace(min(cur_xrp), max(cur_xrp),\n",
        "                             self._pixels[0])\n",
        "        ) - 1\n",
        "        ax1_coord = np.digitize(\n",
        "            cur_yrp,\n",
        "            bins=np.linspace(min(cur_yrp), max(cur_yrp),\n",
        "                             self._pixels[1])\n",
        "        ) - 1\n",
        "\n",
        "        self._coords = np.stack((ax0_coord, ax1_coord), axis=1)\n",
        "\n",
        "    def transform(self, X):\n",
        " \n",
        "        img_coords = pd.DataFrame(np.vstack((\n",
        "            self._coords.T,\n",
        "            X\n",
        "        )).T).groupby([0, 1], as_index=False).mean()\n",
        "\n",
        "        img_matrices = []\n",
        "        blank_mat = np.zeros(self._pixels)\n",
        "        \n",
        "        for z in range(2, img_coords.shape[1]):\n",
        "            img_matrix = blank_mat.copy()\n",
        "            img_matrix[img_coords[0].astype(int),\n",
        "                       img_coords[1].astype(int)] = img_coords[z]\n",
        "            img_matrices.append(img_matrix)\n",
        "\n",
        "    \n",
        "        img_matrices = np.array([self._mat_to_rgb(m) for m in img_matrices])\n",
        "        \n",
        "        return img_matrices\n",
        "\n",
        "    def fit_transform(self, X, **kwargs):\n",
        "\n",
        "        self.fit(X)\n",
        "        return self.transform(X, **kwargs)\n",
        "\n",
        "    def feature_density_matrix(self):\n",
        "\n",
        "        fdmat = np.zeros(self._pixels)\n",
        "        np.add.at(fdmat, tuple(self._coords.T), 1)\n",
        "        return fdmat\n",
        "\n",
        "    def coords(self):\n",
        "        #Get feature coordinates\n",
        "\n",
        "        return self._coords.copy()\n",
        "\n",
        "    @staticmethod\n",
        "    def _minimum_bounding_rectangle(hull_points):\n",
        "        \"\"\"Find the smallest bounding rectangle for a set of points.\n",
        "        Modified from JesseBuesking at https://stackoverflow.com/a/33619018\n",
        "        Returns a set of points representing the corners of the bounding box.\n",
        "        Args:\n",
        "            hull_points : an nx2 matrix of hull coordinates\n",
        "        Returns:\n",
        "            (tuple): tuple containing\n",
        "                coords (ndarray): coordinates of the corners of the rectangle\n",
        "                rotmat (ndarray): rotation matrix to align edges of rectangle\n",
        "                    to x and y\n",
        "        \"\"\"\n",
        "\n",
        "        pi2 = np.pi / 2\n",
        "        # calculate edge angles\n",
        "        edges = hull_points[1:] - hull_points[:-1]\n",
        "        angles = np.arctan2(edges[:, 1], edges[:, 0])\n",
        "        angles = np.abs(np.mod(angles, pi2))\n",
        "        angles = np.unique(angles)\n",
        "        # find rotation matrices\n",
        "        rotations = np.vstack([\n",
        "            np.cos(angles),\n",
        "            -np.sin(angles),\n",
        "            np.sin(angles),\n",
        "            np.cos(angles)]).T\n",
        "        rotations = rotations.reshape((-1, 2, 2))\n",
        "        # apply rotations to the hull\n",
        "        rot_points = np.dot(rotations, hull_points.T)\n",
        "        # find the bounding points\n",
        "        min_x = np.nanmin(rot_points[:, 0], axis=1)\n",
        "        max_x = np.nanmax(rot_points[:, 0], axis=1)\n",
        "        min_y = np.nanmin(rot_points[:, 1], axis=1)\n",
        "        max_y = np.nanmax(rot_points[:, 1], axis=1)\n",
        "        # find the box with the best area\n",
        "        areas = (max_x - min_x) * (max_y - min_y)\n",
        "        best_idx = np.argmin(areas)\n",
        "        # return the best box\n",
        "        x1 = max_x[best_idx]\n",
        "        x2 = min_x[best_idx]\n",
        "        y1 = max_y[best_idx]\n",
        "        y2 = min_y[best_idx]\n",
        "        rotmat = rotations[best_idx]\n",
        "        # generate coordinates\n",
        "        coords = np.zeros((4, 2))\n",
        "        coords[0] = np.dot([x1, y2], rotmat)\n",
        "        coords[1] = np.dot([x2, y2], rotmat)\n",
        "        coords[2] = np.dot([x2, y1], rotmat)\n",
        "        coords[3] = np.dot([x1, y1], rotmat)\n",
        "\n",
        "        return coords, rotmat\n",
        "\n",
        "    @staticmethod\n",
        "    def _mat_to_rgb(mat):\n",
        "        \"\"\"Convert image matrix to numpy rgb format\n",
        "        Args:\n",
        "            mat: {array-like} (M, N)\n",
        "        Returns:\n",
        "            An numpy.ndarry (M, N, 3) with orignal values repeated across\n",
        "            RGB channels.\n",
        "        \"\"\"\n",
        "        return np.repeat(mat[:, :, np.newaxis], 3, axis=2)"
      ],
      "execution_count": null,
      "outputs": []
    },
    {
      "cell_type": "code",
      "metadata": {
        "id": "ExTIzSQv_9ss"
      },
      "source": [
        "import h5py"
      ],
      "execution_count": null,
      "outputs": []
    },
    {
      "cell_type": "code",
      "metadata": {
        "id": "5Ghrp-iK_07j"
      },
      "source": [
        "\n",
        "h5f = h5py.File('/content/drive/MyDrive/tm_x_train.h5','r')\n",
        "x_train = h5f['dataset_1'][:]\n",
        "h5f.close()\n",
        "\n"
      ],
      "execution_count": null,
      "outputs": []
    },
    {
      "cell_type": "code",
      "metadata": {
        "colab": {
          "base_uri": "https://localhost:8080/"
        },
        "id": "QcWIt2zaObhR",
        "outputId": "e7356e9c-7c53-4498-ace3-ea2e716ea7ac"
      },
      "source": [
        "x_train.shape"
      ],
      "execution_count": null,
      "outputs": [
        {
          "output_type": "execute_result",
          "data": {
            "text/plain": [
              "(35959, 23433)"
            ]
          },
          "metadata": {},
          "execution_count": 5
        }
      ]
    },
    {
      "cell_type": "code",
      "metadata": {
        "id": "vOwRuzj8aqpC"
      },
      "source": [
        "\n",
        "\n",
        "x_train = x_train[0:11986]\n",
        "\n"
      ],
      "execution_count": null,
      "outputs": []
    },
    {
      "cell_type": "code",
      "metadata": {
        "id": "RjCJeVmp_WSS"
      },
      "source": [
        "ln = LogScaler()\n",
        "\n",
        "x_train = ln.fit_transform(x_train)\n",
        "\n"
      ],
      "execution_count": null,
      "outputs": []
    },
    {
      "cell_type": "code",
      "metadata": {
        "colab": {
          "base_uri": "https://localhost:8080/",
          "height": 299
        },
        "id": "4P1cbxJS_kr6",
        "outputId": "0a7b6356-75dc-4b2e-9412-7f62bf137b93"
      },
      "source": [
        "%%time\n",
        "\n",
        "it = FftTransformer(pixels=124)\n",
        "_ = it.fit(x_train, plot=True)\n",
        "\n",
        "x_train = it.transform(x_train)\n",
        "\n",
        "\n"
      ],
      "execution_count": null,
      "outputs": [
        {
          "output_type": "display_data",
          "data": {
            "image/png": "[encoded data removed]",
            "text/plain": [
              "<Figure size 432x288 with 1 Axes>"
            ]
          },
          "metadata": {
            "needs_background": "light"
          }
        },
        {
          "output_type": "stream",
          "name": "stdout",
          "text": [
            "CPU times: user 11min 19s, sys: 21.3 s, total: 11min 40s\n",
            "Wall time: 11min 38s\n"
          ]
        }
      ]
    }
  ]
}