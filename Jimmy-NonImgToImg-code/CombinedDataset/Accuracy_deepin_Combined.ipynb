{
  "cells": [
    {
      "cell_type": "code",
      "execution_count": null,
      "metadata": {
        "colab": {
          "base_uri": "https://localhost:8080/"
        },
        "id": "1I3KBW0Eak6O",
        "outputId": "88f29d38-1fc7-4a74-8955-b5cd657ae302"
      },
      "outputs": [
        {
          "name": "stdout",
          "output_type": "stream",
          "text": [
            "Mounted at /content/drive/\n"
          ]
        }
      ],
      "source": [
        "from google.colab import drive \n",
        "drive.mount('/content/drive/')"
      ]
    },
    {
      "cell_type": "code",
      "execution_count": null,
      "metadata": {
        "id": "mvy3N8OL_Rnj"
      },
      "outputs": [],
      "source": [
        "import numpy as np\n",
        "import pandas as pd\n",
        "from sklearn.decomposition import PCA, KernelPCA\n",
        "from sklearn.manifold import TSNE\n",
        "from scipy.spatial import ConvexHull\n",
        "from matplotlib import pyplot as plt\n",
        "import inspect\n",
        "\n",
        "\n",
        "class ImageTransformer:\n",
        "    \"\"\"Transform features to an image matrix using dimensionality reduction\n",
        "    This class takes in data normalized between 0 and 1 and converts it to a\n",
        "    CNN compatible 'image' matrix\n",
        "    \"\"\"\n",
        "\n",
        "    def __init__(self, feature_extractor='tsne', pixels=100,\n",
        "                 random_state=None, n_jobs=None):\n",
        "        \"\"\"Generate an ImageTransformer instance\n",
        "        Args:\n",
        "            feature_extractor: string of value ('tsne', 'pca', 'kpca') or a\n",
        "                class instance with method `fit_transform` that returns a\n",
        "                2-dimensional array of extracted features.\n",
        "            pixels: int (square matrix) or tuple of ints (height, width) that\n",
        "                defines the size of the image matrix.\n",
        "            random_state: int or RandomState. Determines the random number\n",
        "                generator, if present, of a string defined feature_extractor.\n",
        "            n_jobs: The number of parallel jobs to run for a string defined\n",
        "                feature_extractor.\n",
        "        \"\"\"\n",
        "        self.random_state = random_state\n",
        "        self.n_jobs = n_jobs\n",
        "\n",
        "        if isinstance(feature_extractor, str):\n",
        "            fe = feature_extractor.casefold()\n",
        "            if fe == 'tsne'.casefold():\n",
        "                fe = TSNE(\n",
        "                    n_components=2, metric='cosine',\n",
        "                    random_state=self.random_state,\n",
        "                    n_jobs=self.n_jobs)\n",
        "            elif fe == 'pca'.casefold():\n",
        "                fe = PCA(n_components=2,\n",
        "                         random_state=self.random_state)\n",
        "            elif fe == 'kpca'.casefold():\n",
        "                fe = KernelPCA(\n",
        "                    n_components=2, kernel='rbf',\n",
        "                    random_state=self.random_state,\n",
        "                    n_jobs=self.n_jobs)\n",
        "            else:\n",
        "                raise ValueError((\"Feature extraction method '{}' not accepted\"\n",
        "                                  ).format(feature_extractor))\n",
        "            self._fe = fe\n",
        "        elif hasattr(feature_extractor, 'fit_transform') and \\\n",
        "                inspect.ismethod(feature_extractor.fit_transform):\n",
        "            self._fe = feature_extractor\n",
        "        else:\n",
        "            raise TypeError('Parameter feature_extractor is not a '\n",
        "                            'string nor has method \"fit_transform\"')\n",
        "\n",
        "        if isinstance(pixels, int):\n",
        "            pixels = (pixels, pixels)\n",
        "        self._pixels = pixels\n",
        "        self._xrot = None\n",
        "\n",
        "    def fit(self, X, y=None, plot=False):\n",
        "        \"\"\"Train the image transformer from the training set (X)\n",
        "        Args:\n",
        "            X: {array-like, sparse matrix} of shape (n_samples, n_features)\n",
        "            y: Ignored. Present for continuity with scikit-learn\n",
        "            plot: boolean of whether to produce a scatter plot showing the\n",
        "                feature reduction, hull points, and minimum bounding rectangle\n",
        "        Returns:\n",
        "            self: object\n",
        "        \"\"\"\n",
        "        # perform dimensionality reduction\n",
        "        x_new = self._fe.fit_transform(X.T)\n",
        "        # get the convex hull for the points\n",
        "        chvertices = ConvexHull(x_new).vertices\n",
        "        hull_points = x_new[chvertices]\n",
        "        # determine the minimum bounding rectangle\n",
        "        mbr, mbr_rot = self._minimum_bounding_rectangle(hull_points)\n",
        "        # rotate the matrix\n",
        "        # save the rotated matrix in case user wants to change the pixel size\n",
        "        self._xrot = np.dot(mbr_rot, x_new.T).T\n",
        "        # determine feature coordinates based on pixel dimension\n",
        "        self._calculate_coords()\n",
        "        # plot rotation diagram if requested\n",
        "        if plot is True:\n",
        "            plt.scatter(x_new[:, 0], x_new[:, 1], s=1,\n",
        "                        cmap=plt.cm.get_cmap(\"jet\", 10), alpha=0.2)\n",
        "            plt.fill(x_new[chvertices, 0], x_new[chvertices, 1],\n",
        "                     edgecolor='r', fill=False)\n",
        "            plt.fill(mbr[:, 0], mbr[:, 1], edgecolor='g', fill=False)\n",
        "            plt.gca().set_aspect('equal', adjustable='box')\n",
        "            plt.show()\n",
        "        return self\n",
        "\n",
        "    @property\n",
        "    def pixels(self):\n",
        "        \"\"\"The image matrix dimensions\n",
        "        Returns:\n",
        "            tuple: the image matrix dimensions (height, width)\n",
        "        \"\"\"\n",
        "        return self._pixels\n",
        "\n",
        "    @pixels.setter\n",
        "    def pixels(self, pixels):\n",
        "        \"\"\"Set the image matrix dimension\n",
        "        Args:\n",
        "            pixels: int or tuple with the dimensions (height, width)\n",
        "            of the image matrix\n",
        "        \"\"\"\n",
        "        if isinstance(pixels, int):\n",
        "            pixels = (pixels, pixels)\n",
        "        self._pixels = pixels\n",
        "        # recalculate coordinates if already fit\n",
        "        if hasattr(self, '_coords'):\n",
        "            self._calculate_coords()\n",
        "\n",
        "    def _calculate_coords(self):\n",
        "        \"\"\"Calculate the matrix coordinates of each feature based on the\n",
        "        pixel dimensions.\n",
        "        \"\"\"\n",
        "        ax0_coord = np.digitize(\n",
        "            self._xrot[:, 0],\n",
        "            bins=np.linspace(min(self._xrot[:, 0]), max(self._xrot[:, 0]),\n",
        "                             self._pixels[0])\n",
        "        ) - 1\n",
        "        ax1_coord = np.digitize(\n",
        "            self._xrot[:, 1],\n",
        "            bins=np.linspace(min(self._xrot[:, 1]), max(self._xrot[:, 1]),\n",
        "                             self._pixels[1])\n",
        "        ) - 1\n",
        "        self._coords = np.stack((ax0_coord, ax1_coord), axis=1)\n",
        "\n",
        "    def transform(self, X, format='rgb', empty_value=0):\n",
        "        \"\"\"Transform the input matrix into image matrices\n",
        "        Args:\n",
        "            X: {array-like, sparse matrix} of shape (n_samples, n_features)\n",
        "                where n_features matches the training set.\n",
        "            format: The format of the image matrix to return. 'scalar' return a\n",
        "                array of shape (M, N). 'rgb' returns an numpy.ndarray of shape\n",
        "                (M, N, 3) that is compatible with PIL.\n",
        "            empty_value: numeric value to fill elements where no features are\n",
        "                mapped. Default = 0.\n",
        "        Returns:\n",
        "            A list of n_samples numpy matrices of dimensions set by\n",
        "            the pixel parameter\n",
        "        \"\"\"\n",
        "        img_coords = pd.DataFrame(np.vstack((\n",
        "            self._coords.T,\n",
        "            X\n",
        "        )).T).groupby([0, 1], as_index=False).mean()\n",
        "\n",
        "        img_matrices = []\n",
        "        blank_mat = np.zeros(self._pixels)\n",
        "        if empty_value != 0:\n",
        "            blank_mat[:] = empty_value\n",
        "        for z in range(2, img_coords.shape[1]):\n",
        "            img_matrix = blank_mat.copy()\n",
        "            img_matrix[img_coords[0].astype(int),\n",
        "                       img_coords[1].astype(int)] = img_coords[z]\n",
        "            img_matrices.append(img_matrix)\n",
        "\n",
        "        if format=='rgb':\n",
        "            img_matrices = np.array([self._mat_to_rgb(m) for m in img_matrices])\n",
        "        elif format=='scalar':\n",
        "            pass\n",
        "        else:\n",
        "            raise ValueError((\"'{}' not accepted for parameter 'format'\")\n",
        "                             .format(format))\n",
        "\n",
        "        return img_matrices\n",
        "\n",
        "    def fit_transform(self, X, **kwargs):\n",
        "        \"\"\"Train the image transformer from the training set (X) and return\n",
        "        the transformed data.\n",
        "        Args:\n",
        "            X: {array-like, sparse matrix} of shape (n_samples, n_features)\n",
        "        Returns:\n",
        "            A list of n_samples numpy matrices of dimensions set by\n",
        "            the pixel parameter\n",
        "        \"\"\"\n",
        "        self.fit(X)\n",
        "        return self.transform(X, **kwargs)\n",
        "\n",
        "    def feature_density_matrix(self):\n",
        "        \"\"\"Generate image matrix with feature counts per pixel\n",
        "        Returns:\n",
        "            img_matrix (ndarray): matrix with feature counts per pixel\n",
        "        \"\"\"\n",
        "        fdmat = np.zeros(self._pixels)\n",
        "        np.add.at(fdmat, tuple(self._coords.T), 1)\n",
        "        return fdmat\n",
        "\n",
        "    def coords(self):\n",
        "        \"\"\"Get feature coordinates\n",
        "        Returns:\n",
        "            ndarray: the pixel coordinates for features\n",
        "        \"\"\"\n",
        "        return self._coords.copy()\n",
        "\n",
        "    @staticmethod\n",
        "    def _minimum_bounding_rectangle(hull_points):\n",
        "        \"\"\"Find the smallest bounding rectangle for a set of points.\n",
        "        Modified from JesseBuesking at https://stackoverflow.com/a/33619018\n",
        "        Returns a set of points representing the corners of the bounding box.\n",
        "        Args:\n",
        "            hull_points : an nx2 matrix of hull coordinates\n",
        "        Returns:\n",
        "            (tuple): tuple containing\n",
        "                coords (ndarray): coordinates of the corners of the rectangle\n",
        "                rotmat (ndarray): rotation matrix to align edges of rectangle\n",
        "                    to x and y\n",
        "        \"\"\"\n",
        "\n",
        "        pi2 = np.pi / 2\n",
        "        # calculate edge angles\n",
        "        edges = hull_points[1:] - hull_points[:-1]\n",
        "        angles = np.arctan2(edges[:, 1], edges[:, 0])\n",
        "        angles = np.abs(np.mod(angles, pi2))\n",
        "        angles = np.unique(angles)\n",
        "        # find rotation matrices\n",
        "        rotations = np.vstack([\n",
        "            np.cos(angles),\n",
        "            -np.sin(angles),\n",
        "            np.sin(angles),\n",
        "            np.cos(angles)]).T\n",
        "        rotations = rotations.reshape((-1, 2, 2))\n",
        "        # apply rotations to the hull\n",
        "        rot_points = np.dot(rotations, hull_points.T)\n",
        "        # find the bounding points\n",
        "        min_x = np.nanmin(rot_points[:, 0], axis=1)\n",
        "        max_x = np.nanmax(rot_points[:, 0], axis=1)\n",
        "        min_y = np.nanmin(rot_points[:, 1], axis=1)\n",
        "        max_y = np.nanmax(rot_points[:, 1], axis=1)\n",
        "        # find the box with the best area\n",
        "        areas = (max_x - min_x) * (max_y - min_y)\n",
        "        best_idx = np.argmin(areas)\n",
        "        # return the best box\n",
        "        x1 = max_x[best_idx]\n",
        "        x2 = min_x[best_idx]\n",
        "        y1 = max_y[best_idx]\n",
        "        y2 = min_y[best_idx]\n",
        "        rotmat = rotations[best_idx]\n",
        "        # generate coordinates\n",
        "        coords = np.zeros((4, 2))\n",
        "        coords[0] = np.dot([x1, y2], rotmat)\n",
        "        coords[1] = np.dot([x2, y2], rotmat)\n",
        "        coords[2] = np.dot([x2, y1], rotmat)\n",
        "        coords[3] = np.dot([x1, y1], rotmat)\n",
        "\n",
        "        return coords, rotmat\n",
        "\n",
        "    @staticmethod\n",
        "    def _mat_to_rgb(mat):\n",
        "        \"\"\"Convert image matrix to numpy rgb format\n",
        "        Args:\n",
        "            mat: {array-like} (M, N)\n",
        "        Returns:\n",
        "            An numpy.ndarry (M, N, 3) with orignal values repeated across\n",
        "            RGB channels.\n",
        "        \"\"\"\n",
        "        return np.repeat(mat[:, :, np.newaxis], 3, axis=2)\n",
        "\n",
        "\n",
        "class LogScaler:\n",
        "    \"\"\"Log normalize and scale data\n",
        "    Log normalization and scaling procedure as described as norm-2 in the\n",
        "    DeepInsight paper supplementary information.\n",
        "    \"\"\"\n",
        "\n",
        "    def __init__(self):\n",
        "        self._min0 = None\n",
        "        self._max = None\n",
        "        pass\n",
        "\n",
        "    def fit(self, X, y=None):\n",
        "        self._min0 = X.min(axis=0)\n",
        "        self._max = np.log(X + np.abs(self._min0) + 1).max()\n",
        "\n",
        "    def fit_transform(self, X, y=None):\n",
        "        self._min0 = X.min(axis=0)\n",
        "        X_norm = np.log(X + np.abs(self._min0) + 1)\n",
        "        self._max = X_norm.max()\n",
        "        return X_norm / self._max\n",
        "\n",
        "    def transform(self, X, y=None):\n",
        "        X_norm = np.log(X + np.abs(self._min0) + 1).clip(0, None)\n",
        "        return (X_norm / self._max).clip(0, 1)\n"
      ]
    },
    {
      "cell_type": "code",
      "execution_count": null,
      "metadata": {
        "id": "ExTIzSQv_9ss"
      },
      "outputs": [],
      "source": [
        "import h5py"
      ]
    },
    {
      "cell_type": "code",
      "execution_count": null,
      "metadata": {
        "id": "5Ghrp-iK_07j"
      },
      "outputs": [],
      "source": [
        "\n",
        "h5f = h5py.File('/content/drive/MyDrive/tm_x_train.h5','r')\n",
        "x_train = h5f['dataset_1'][:]\n",
        "h5f.close()\n",
        "\n",
        "\n",
        "h5f = h5py.File('/content/drive/MyDrive/tm_x_test.h5','r')\n",
        "x_test = h5f['dataset_1'][:]\n",
        "h5f.close()\n",
        "\n",
        "h5f = h5py.File('/content/drive/MyDrive/tm_y_train.h5','r')\n",
        "y_train = h5f['dataset_1'][:]\n",
        "h5f.close()\n",
        "\n",
        "h5f = h5py.File('/content/drive/MyDrive/tm_y_test.h5','r')\n",
        "y_test = h5f['dataset_1'][:]\n",
        "h5f.close()"
      ]
    },
    {
      "cell_type": "code",
      "execution_count": null,
      "metadata": {
        "colab": {
          "base_uri": "https://localhost:8080/"
        },
        "id": "MeOHEvoXakq3",
        "outputId": "5c9cfb38-8807-4dea-af03-589998cb0065"
      },
      "outputs": [
        {
          "data": {
            "text/plain": [
              "(35959, 23433)"
            ]
          },
          "execution_count": 5,
          "metadata": {},
          "output_type": "execute_result"
        }
      ],
      "source": [
        "x_train.shape\n"
      ]
    },
    {
      "cell_type": "code",
      "execution_count": null,
      "metadata": {
        "colab": {
          "base_uri": "https://localhost:8080/"
        },
        "id": "b8lDG303aoq1",
        "outputId": "5c4a5288-d20c-4dc4-b39a-1792ab74d1cc"
      },
      "outputs": [
        {
          "data": {
            "text/plain": [
              "(8990, 23433)"
            ]
          },
          "execution_count": 6,
          "metadata": {},
          "output_type": "execute_result"
        }
      ],
      "source": [
        "x_test.shape"
      ]
    },
    {
      "cell_type": "code",
      "execution_count": null,
      "metadata": {
        "id": "vOwRuzj8aqpC"
      },
      "outputs": [],
      "source": [
        "\n",
        "x_train = x_train[0:8989]\n",
        "x_test = x_test[0:2247]\n",
        "y_train = y_train[0:8989]\n",
        "y_test = y_test[0:2247]"
      ]
    },
    {
      "cell_type": "code",
      "execution_count": null,
      "metadata": {
        "colab": {
          "base_uri": "https://localhost:8080/"
        },
        "id": "ehBSsJBdbuW0",
        "outputId": "ac3c558e-432d-47e7-87b7-eb308f5dd6e6"
      },
      "outputs": [
        {
          "name": "stdout",
          "output_type": "stream",
          "text": [
            "(8989, 23433)\n"
          ]
        }
      ],
      "source": [
        "\n",
        "x_train = np.nan_to_num(x_train)\n",
        "x_test = np.nan_to_num(x_test)\n",
        "sum_train = np.sum(x_train,axis=1)\n",
        "sum_train = sum_train.reshape(sum_train.shape[0],-1)\n",
        "sum_test = np.sum(x_test,axis=1)\n",
        "sum_test = sum_test.reshape(sum_test.shape[0],-1)\n",
        "\n",
        "\n",
        "x_train = np.divide(x_train, sum_train)\n",
        "x_test =  np.divide(x_test, sum_test)\n",
        "print(x_train.shape)\n"
      ]
    },
    {
      "cell_type": "code",
      "execution_count": null,
      "metadata": {
        "colab": {
          "base_uri": "https://localhost:8080/"
        },
        "id": "6ul1WXEAgmBp",
        "outputId": "31e5eb89-a9dc-4c0a-ac9a-86a1020f8a1c"
      },
      "outputs": [
        {
          "data": {
            "text/plain": [
              "252"
            ]
          },
          "execution_count": 9,
          "metadata": {},
          "output_type": "execute_result"
        }
      ],
      "source": [
        "import gc\n",
        "\n",
        "del sum_train\n",
        "del sum_test\n",
        "\n",
        "gc.collect()"
      ]
    },
    {
      "cell_type": "code",
      "execution_count": null,
      "metadata": {
        "id": "RjCJeVmp_WSS"
      },
      "outputs": [],
      "source": [
        "ln = LogScaler()\n",
        "\n",
        "x_train = ln.fit_transform(x_train)\n",
        "x_test = ln.transform(x_test)\n"
      ]
    },
    {
      "cell_type": "code",
      "execution_count": null,
      "metadata": {
        "colab": {
          "base_uri": "https://localhost:8080/",
          "height": 387
        },
        "id": "4P1cbxJS_kr6",
        "outputId": "bc5e7bae-932b-4b18-905e-fe465061be47"
      },
      "outputs": [
        {
          "name": "stderr",
          "output_type": "stream",
          "text": [
            "/usr/local/lib/python3.7/dist-packages/sklearn/manifold/_t_sne.py:783: FutureWarning: The default initialization in TSNE will change from 'random' to 'pca' in 1.2.\n",
            "  FutureWarning,\n",
            "/usr/local/lib/python3.7/dist-packages/sklearn/manifold/_t_sne.py:793: FutureWarning: The default learning rate in TSNE will change from 200.0 to 'auto' in 1.2.\n",
            "  FutureWarning,\n",
            "/usr/local/lib/python3.7/dist-packages/sklearn/manifold/_t_sne.py:827: FutureWarning: 'square_distances' has been introduced in 0.24 to help phase out legacy squaring behavior. The 'legacy' setting will be removed in 1.1 (renaming of 0.26), and the default setting will be changed to True. In 1.3, 'square_distances' will be removed altogether, and distances will be squared by default. Set 'square_distances'=True to silence this warning.\n",
            "  FutureWarning,\n"
          ]
        },
        {
          "data": {
            "image/png": "[encoded data removed]",
            "text/plain": [
              "<Figure size 432x288 with 1 Axes>"
            ]
          },
          "metadata": {
            "needs_background": "light"
          },
          "output_type": "display_data"
        }
      ],
      "source": [
        "it = ImageTransformer(pixels=124)\n",
        "_ = it.fit(x_train, plot=True)"
      ]
    },
    {
      "cell_type": "code",
      "execution_count": null,
      "metadata": {
        "colab": {
          "base_uri": "https://localhost:8080/"
        },
        "id": "5dEaYgGhgzG7",
        "outputId": "d7cd8eb0-0049-41b2-f505-be14fdb87e79"
      },
      "outputs": [
        {
          "data": {
            "text/plain": [
              "2594"
            ]
          },
          "execution_count": 12,
          "metadata": {},
          "output_type": "execute_result"
        }
      ],
      "source": [
        "del _\n",
        "gc.collect()"
      ]
    },
    {
      "cell_type": "code",
      "execution_count": null,
      "metadata": {
        "colab": {
          "base_uri": "https://localhost:8080/"
        },
        "id": "Jclqpecf_lPK",
        "outputId": "dd203c0c-6c9d-40c6-fd93-1b52cdad5ff1"
      },
      "outputs": [
        {
          "data": {
            "text/plain": [
              "(8989, 124, 124, 3)"
            ]
          },
          "execution_count": 13,
          "metadata": {},
          "output_type": "execute_result"
        }
      ],
      "source": [
        "x_train = it.transform(x_train)\n",
        "x_train.shape"
      ]
    },
    {
      "cell_type": "code",
      "execution_count": null,
      "metadata": {
        "colab": {
          "base_uri": "https://localhost:8080/"
        },
        "id": "IpnGf2DO_nll",
        "outputId": "cd55990b-c60f-44f2-a5fb-4e84970e6b17"
      },
      "outputs": [
        {
          "data": {
            "text/plain": [
              "(2247, 124, 124, 3)"
            ]
          },
          "execution_count": 14,
          "metadata": {},
          "output_type": "execute_result"
        }
      ],
      "source": [
        "x_test = it.transform(x_test)\n",
        "x_test.shape"
      ]
    },
    {
      "cell_type": "code",
      "execution_count": null,
      "metadata": {
        "colab": {
          "base_uri": "https://localhost:8080/",
          "height": 392
        },
        "id": "arC2BXGu_qCe",
        "outputId": "66f6b030-3cb8-4c6d-a259-6048ef4600f0"
      },
      "outputs": [
        {
          "name": "stdout",
          "output_type": "stream",
          "text": [
            "Train img\n",
            "24.0\n",
            "90.0\n",
            "13.0\n",
            "9.0\n",
            "62.0\n",
            "23.0\n",
            "30.0\n",
            "92.0\n",
            "110.0\n",
            "79.0\n"
          ]
        },
        {
          "data": {
            "text/plain": [
              "<Figure size 1080x288 with 0 Axes>"
            ]
          },
          "metadata": {},
          "output_type": "display_data"
        },
        {
          "data": {
            "image/png": "[encoded data removed]",
            "text/plain": [
              "<Figure size 2160x2160 with 10 Axes>"
            ]
          },
          "metadata": {
            "needs_background": "light"
          },
          "output_type": "display_data"
        }
      ],
      "source": [
        "print(\"Train img\")\n",
        "plt.figure(figsize=(15,4))\n",
        "\n",
        "#subplot(r,c) provide the no. of rows and columns\n",
        "f, axarr = plt.subplots(1,10,figsize=(30,30)) \n",
        "\n",
        "for i in range(10):\n",
        "    axarr[i].imshow(x_train[i])\n",
        "    print(y_train[i])"
      ]
    },
    {
      "cell_type": "code",
      "execution_count": null,
      "metadata": {
        "id": "5DL1QIqGePyk"
      },
      "outputs": [],
      "source": [
        "import tensorflow as tf\n",
        "from tensorflow.keras.models import Sequential\n",
        "from tensorflow.keras.layers import Dense, Dropout, Activation, Flatten\n",
        "from tensorflow.keras.layers import Conv2D, MaxPooling2D\n",
        "from tensorflow.keras.utils import to_categorical\n",
        "from keras import layers"
      ]
    },
    {
      "cell_type": "code",
      "execution_count": null,
      "metadata": {
        "id": "EhvT_NxdeUzQ"
      },
      "outputs": [],
      "source": [
        "df_y_train = to_categorical(y_train,num_classes=120)"
      ]
    },
    {
      "cell_type": "code",
      "execution_count": null,
      "metadata": {
        "colab": {
          "base_uri": "https://localhost:8080/"
        },
        "id": "YsLzdejSekv-",
        "outputId": "b1691129-85db-4a00-961d-a732044ea669"
      },
      "outputs": [
        {
          "name": "stdout",
          "output_type": "stream",
          "text": [
            "Epoch 1/90\n",
            "225/225 [==============================] - 27s 60ms/step - loss: 0.0702 - categorical_accuracy: 0.0873 - val_loss: 0.0429 - val_categorical_accuracy: 0.0528 - lr: 0.0010\n",
            "Epoch 2/90\n",
            "225/225 [==============================] - 12s 55ms/step - loss: 0.0429 - categorical_accuracy: 0.0954 - val_loss: 0.0424 - val_categorical_accuracy: 0.0929 - lr: 0.0010\n",
            "Epoch 3/90\n",
            "225/225 [==============================] - 12s 55ms/step - loss: 0.0327 - categorical_accuracy: 0.3614 - val_loss: 0.0194 - val_categorical_accuracy: 0.6463 - lr: 0.0010\n",
            "Epoch 4/90\n",
            "225/225 [==============================] - 13s 56ms/step - loss: 0.0168 - categorical_accuracy: 0.7076 - val_loss: 0.0152 - val_categorical_accuracy: 0.7225 - lr: 0.0010\n",
            "Epoch 5/90\n",
            "225/225 [==============================] - 13s 56ms/step - loss: 0.0129 - categorical_accuracy: 0.7591 - val_loss: 0.0136 - val_categorical_accuracy: 0.7597 - lr: 0.0010\n",
            "Epoch 6/90\n",
            "225/225 [==============================] - 12s 55ms/step - loss: 0.0111 - categorical_accuracy: 0.7911 - val_loss: 0.0127 - val_categorical_accuracy: 0.7614 - lr: 0.0010\n",
            "Epoch 7/90\n",
            "225/225 [==============================] - 12s 55ms/step - loss: 0.0098 - categorical_accuracy: 0.8173 - val_loss: 0.0122 - val_categorical_accuracy: 0.7864 - lr: 0.0010\n",
            "Epoch 8/90\n",
            "225/225 [==============================] - 12s 55ms/step - loss: 0.0091 - categorical_accuracy: 0.8327 - val_loss: 0.0108 - val_categorical_accuracy: 0.8037 - lr: 0.0010\n",
            "Epoch 9/90\n",
            "225/225 [==============================] - 12s 56ms/step - loss: 0.0081 - categorical_accuracy: 0.8473 - val_loss: 0.0103 - val_categorical_accuracy: 0.8120 - lr: 0.0010\n",
            "Epoch 10/90\n",
            "225/225 [==============================] - 12s 55ms/step - loss: 0.0077 - categorical_accuracy: 0.8552 - val_loss: 0.0107 - val_categorical_accuracy: 0.8170 - lr: 0.0010\n",
            "Epoch 11/90\n",
            "225/225 [==============================] - 12s 55ms/step - loss: 0.0069 - categorical_accuracy: 0.8715 - val_loss: 0.0104 - val_categorical_accuracy: 0.8103 - lr: 0.0010\n",
            "Epoch 12/90\n",
            "225/225 [==============================] - 12s 55ms/step - loss: 0.0064 - categorical_accuracy: 0.8836 - val_loss: 0.0106 - val_categorical_accuracy: 0.8142 - lr: 0.0010\n",
            "Epoch 13/90\n",
            "225/225 [==============================] - 13s 57ms/step - loss: 0.0062 - categorical_accuracy: 0.8876 - val_loss: 0.0103 - val_categorical_accuracy: 0.8287 - lr: 0.0010\n",
            "Epoch 14/90\n",
            "225/225 [==============================] - 12s 55ms/step - loss: 0.0057 - categorical_accuracy: 0.8983 - val_loss: 0.0104 - val_categorical_accuracy: 0.8276 - lr: 0.0010\n",
            "Epoch 15/90\n",
            "225/225 [==============================] - 12s 55ms/step - loss: 0.0055 - categorical_accuracy: 0.9021 - val_loss: 0.0102 - val_categorical_accuracy: 0.8298 - lr: 0.0010\n",
            "Epoch 16/90\n",
            "225/225 [==============================] - 13s 56ms/step - loss: 0.0050 - categorical_accuracy: 0.9135 - val_loss: 0.0100 - val_categorical_accuracy: 0.8376 - lr: 0.0010\n",
            "Epoch 17/90\n",
            "225/225 [==============================] - 12s 55ms/step - loss: 0.0047 - categorical_accuracy: 0.9234 - val_loss: 0.0102 - val_categorical_accuracy: 0.8382 - lr: 0.0010\n",
            "Epoch 18/90\n",
            "225/225 [==============================] - 12s 55ms/step - loss: 0.0043 - categorical_accuracy: 0.9248 - val_loss: 0.0105 - val_categorical_accuracy: 0.8270 - lr: 0.0010\n",
            "Epoch 19/90\n",
            "225/225 [==============================] - 12s 55ms/step - loss: 0.0041 - categorical_accuracy: 0.9298 - val_loss: 0.0110 - val_categorical_accuracy: 0.8348 - lr: 0.0010\n",
            "Epoch 20/90\n",
            "225/225 [==============================] - 12s 55ms/step - loss: 0.0037 - categorical_accuracy: 0.9395 - val_loss: 0.0114 - val_categorical_accuracy: 0.8370 - lr: 0.0010\n",
            "Epoch 21/90\n",
            "225/225 [==============================] - 12s 55ms/step - loss: 0.0035 - categorical_accuracy: 0.9441 - val_loss: 0.0116 - val_categorical_accuracy: 0.8265 - lr: 0.0010\n",
            "Epoch 22/90\n",
            "225/225 [==============================] - 12s 55ms/step - loss: 0.0034 - categorical_accuracy: 0.9438 - val_loss: 0.0111 - val_categorical_accuracy: 0.8370 - lr: 0.0010\n",
            "Epoch 23/90\n",
            "225/225 [==============================] - 12s 55ms/step - loss: 0.0033 - categorical_accuracy: 0.9523 - val_loss: 0.0122 - val_categorical_accuracy: 0.8270 - lr: 0.0010\n",
            "Epoch 24/90\n",
            "224/225 [============================>.] - ETA: 0s - loss: 0.0030 - categorical_accuracy: 0.9573\n",
            "Epoch 00024: ReduceLROnPlateau reducing learning rate to 0.00010000000474974513.\n",
            "225/225 [==============================] - 12s 55ms/step - loss: 0.0030 - categorical_accuracy: 0.9572 - val_loss: 0.0119 - val_categorical_accuracy: 0.8409 - lr: 0.0010\n",
            "Epoch 25/90\n",
            "225/225 [==============================] - 12s 55ms/step - loss: 0.0019 - categorical_accuracy: 0.9727 - val_loss: 0.0114 - val_categorical_accuracy: 0.8443 - lr: 1.0000e-04\n",
            "Epoch 26/90\n",
            "225/225 [==============================] - 12s 55ms/step - loss: 0.0017 - categorical_accuracy: 0.9786 - val_loss: 0.0113 - val_categorical_accuracy: 0.8454 - lr: 1.0000e-04\n",
            "Epoch 00026: early stopping\n"
          ]
        },
        {
          "data": {
            "text/plain": [
              "<keras.callbacks.History at 0x7fd1c0612c10>"
            ]
          },
          "execution_count": 18,
          "metadata": {},
          "output_type": "execute_result"
        }
      ],
      "source": [
        "from keras.callbacks import EarlyStopping, ModelCheckpoint , ReduceLROnPlateau\n",
        "\n",
        "\n",
        "model = Sequential()\n",
        "model.add(Conv2D(64,(3,3),input_shape=(124,124,3)) )\n",
        "model.add(Activation(\"relu\"))\n",
        "model.add(MaxPooling2D(pool_size=(2,2)))\n",
        "model.add(Conv2D(64,(3,3) ))\n",
        "model.add(Activation(\"relu\"))\n",
        "model.add(MaxPooling2D(pool_size=(2,2)))\n",
        "model.add(Flatten())\n",
        "model.add(Dense(64))\n",
        "model.add(Dense(120))\n",
        "model.add(Activation('sigmoid'))\n",
        "model.compile(optimizer='adam',\n",
        "              loss='binary_crossentropy',\n",
        "              metrics=['categorical_accuracy'])\n",
        "\n",
        "earlyStopping = EarlyStopping(monitor='val_loss', patience=10, verbose=1, mode='auto')\n",
        "mcp_save = ModelCheckpoint('.mdl_wts.hdf5', save_best_only=True, monitor='val_loss', mode='auto')\n",
        "reduce_lr_loss = ReduceLROnPlateau(monitor='val_loss', factor=0.1, patience=8, verbose=1, min_delta=1e-4, mode='auto')\n",
        "\n",
        "model.fit(x_train, df_y_train, batch_size=32, epochs=90, verbose=1, callbacks=[earlyStopping, mcp_save, reduce_lr_loss], validation_split=0.2)"
      ]
    },
    {
      "cell_type": "code",
      "execution_count": null,
      "metadata": {
        "colab": {
          "base_uri": "https://localhost:8080/"
        },
        "id": "81YSENxRfGUK",
        "outputId": "03b935aa-bf07-49f2-c5b0-e54521ed35f0"
      },
      "outputs": [
        {
          "name": "stdout",
          "output_type": "stream",
          "text": [
            "71/71 [==============================] - 2s 21ms/step - loss: 0.0103 - categorical_accuracy: 0.8425\n",
            "0.010264378041028976 0.842456579208374\n"
          ]
        }
      ],
      "source": [
        "df_y_test = to_categorical(y_test,num_classes=120)\n",
        "\n",
        "val_loss, val_acc = model.evaluate(x_test,df_y_test)\n",
        "print(val_loss, val_acc)"
      ]
    },
    {
      "cell_type": "code",
      "execution_count": null,
      "metadata": {
        "colab": {
          "base_uri": "https://localhost:8080/"
        },
        "id": "CJWldnb6fPFz",
        "outputId": "7f9551fa-5262-4865-9fc6-37d0bdcfd915"
      },
      "outputs": [
        {
          "name": "stdout",
          "output_type": "stream",
          "text": [
            "Accuracy: 0.8425\n",
            "F1 Score(micro): 0.8425\n",
            "F1 Score(macro): 0.5853\n",
            "F1 Score(weighted): 0.8326\n"
          ]
        }
      ],
      "source": [
        "from sklearn.metrics import accuracy_score\n",
        "from sklearn.metrics import f1_score\n",
        "\n",
        "y_pred = model.predict(x_test)\n",
        "y_pred = np.argmax(y_pred,axis=1)\n",
        "\n",
        "#print(y_pred[0:50])\n",
        "\n",
        "out_acc = accuracy_score(y_test, y_pred)\n",
        "out_f1 = f1_score(y_test, y_pred,average ='micro')\n",
        "\n",
        "print(\"Accuracy: {}\".format(round(out_acc,4)))\n",
        "print(\"F1 Score(micro): {}\".format(round(out_f1,4)))\n",
        "\n",
        "out_f1 = f1_score(y_test, y_pred,average ='macro')\n",
        "print(\"F1 Score(macro): {}\".format(round(out_f1,4)))\n",
        "\n",
        "out_f1 = f1_score(y_test, y_pred,average ='weighted')\n",
        "print(\"F1 Score(weighted): {}\".format(round(out_f1,4)))"
      ]
    }
  ],
  "metadata": {
    "accelerator": "GPU",
    "colab": {
      "machine_shape": "hm",
      "name": "Cpm of v1_deepin.ipynb",
      "provenance": []
    },
    "kernelspec": {
      "display_name": "Python 3",
      "name": "python3"
    },
    "language_info": {
      "name": "python"
    }
  },
  "nbformat": 4,
  "nbformat_minor": 0
}
