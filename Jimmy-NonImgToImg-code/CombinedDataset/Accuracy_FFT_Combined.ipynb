{
  "nbformat": 4,
  "nbformat_minor": 0,
  "metadata": {
    "colab": {
      "name": "Cpm of v1.ipynb",
      "provenance": [],
      "machine_shape": "hm"
    },
    "kernelspec": {
      "name": "python3",
      "display_name": "Python 3"
    },
    "language_info": {
      "name": "python"
    },
    "accelerator": "GPU"
  },
  "cells": [
    {
      "cell_type": "code",
      "metadata": {
        "colab": {
          "base_uri": "https://localhost:8080/"
        },
        "id": "1I3KBW0Eak6O",
        "outputId": "0698e4a4-3620-4059-a41a-f502266bf21f"
      },
      "source": [
        "from google.colab import drive \n",
        "drive.mount('/content/drive/')"
      ],
      "execution_count": null,
      "outputs": [
        {
          "output_type": "stream",
          "name": "stdout",
          "text": [
            "Mounted at /content/drive/\n"
          ]
        }
      ]
    },
    {
      "cell_type": "code",
      "metadata": {
        "id": "mvy3N8OL_Rnj"
      },
      "source": [
        "import numpy as np\n",
        "import pandas as pd\n",
        "from scipy.spatial import ConvexHull\n",
        "from matplotlib import pyplot as plt\n",
        "import inspect\n",
        "from numpy.fft import fft\n",
        "from numpy.fft import fftshift\n",
        "\n",
        "\n",
        "class LogScaler:\n",
        "    #Log normalization and data scaling\n",
        "    \n",
        "    def __init__(self):\n",
        "        self._min0 = None\n",
        "        self._max = None\n",
        "        pass\n",
        "\n",
        "    def fit(self, X, y=None):\n",
        "        self._min0 = X.min(axis=0)\n",
        "        self._max = np.log(X + np.abs(self._min0) + 1).max()\n",
        "\n",
        "    def fit_transform(self, X, y=None):\n",
        "        self._min0 = X.min(axis=0)\n",
        "        X_norm = np.log(X + np.abs(self._min0) + 1)\n",
        "        self._max = X_norm.max()\n",
        "        return X_norm / self._max\n",
        "\n",
        "    def transform(self, X, y=None):\n",
        "        X_norm = np.log(X + np.abs(self._min0) + 1).clip(0, None)\n",
        "        return (X_norm / self._max).clip(0, 1)\n",
        "\n",
        "\n",
        "class FftTransformer:\n",
        "    # Image transformer based on fast fourier transform\n",
        "\n",
        "    def __init__(self, pixels=124):\n",
        "        if isinstance(pixels, int):\n",
        "            pixels = (pixels, pixels)\n",
        "        self._pixels = pixels\n",
        "        self._xrot = None\n",
        "\n",
        "    def fft_fit(self,X):     \n",
        "        z1_lst=[]\n",
        "        z2_lst=[]\n",
        "\n",
        "        for cur_x in range(len(X)):\n",
        "            x_ft = fftshift(fft(X[cur_x]))\n",
        "                 \n",
        "            real_lst =[0]*len(x_ft)\n",
        "            imag_lst= [0]*len(x_ft)\n",
        "\n",
        "            for i in range(len(x_ft)):\n",
        "                real_lst[i] = x_ft[i].real\n",
        "                imag_lst[i] = x_ft[i].imag\n",
        "\n",
        "            q1, q3 = np.percentile(sorted(real_lst), [10, 90])\n",
        "            iqr = q3 - q1\n",
        "    \n",
        "            # find lower and upper bounds\n",
        "            lower_bound = q1 - (1.5 * iqr)\n",
        "            upper_bound = q3 + (1.5 * iqr)\n",
        "\n",
        "            outliers=[]\n",
        "            outliers_idx=[]\n",
        "            for i in range(len(real_lst)):\n",
        "                if real_lst[i] <= lower_bound or real_lst[i] >= upper_bound:\n",
        "                    outliers.append(real_lst[i])\n",
        "                    outliers_idx.append(i)\n",
        "            \n",
        "            for i in range(len(outliers_idx)):\n",
        "                real_lst[outliers_idx[i]]=0\n",
        "            \n",
        "            # imag \n",
        "            q1, q3 = np.percentile(sorted(imag_lst), [10, 90])\n",
        "            iqr = q3 - q1\n",
        "    \n",
        "            # find lower and upper bounds\n",
        "            lower_bound = q1 - (1.5 * iqr)\n",
        "            upper_bound = q3 + (1.5 * iqr)\n",
        "\n",
        "            outliers=[]\n",
        "            outliers_idx=[]\n",
        "            for i in range(len(imag_lst)):\n",
        "                if imag_lst[i] <= lower_bound or imag_lst[i] >= upper_bound:\n",
        "                    outliers.append(imag_lst[i])\n",
        "                    outliers_idx.append(i)\n",
        "            \n",
        "            for i in range(len(outliers_idx)):\n",
        "                imag_lst[outliers_idx[i]]=0\n",
        "\n",
        "            z1_lst.append(np.array(real_lst))\n",
        "            z2_lst.append(np.array(imag_lst))\n",
        "    \n",
        "        z1_lst = np.mean(np.array(z1_lst),axis=0) \n",
        "        z2_lst = np.mean(np.array(z2_lst),axis=0)\n",
        "\n",
        "        real_mt = np.empty(shape=(x_ft.shape[0],1))\n",
        "        real_mt.fill(0)\n",
        "        imag_mt = np.empty(shape=(x_ft.shape[0],1))\n",
        "        imag_mt.fill(0)\n",
        "\n",
        "        for i in range(len(x_ft)):\n",
        "            cur_real = z1_lst[i]\n",
        "            real_mt[i] = cur_real\n",
        "\n",
        "            cur_imag = z2_lst[i]\n",
        "            imag_mt[i] = cur_imag\n",
        "\n",
        "        z1 = real_mt\n",
        "        z2 = imag_mt\n",
        "        full_mt = np.hstack((z1,z2))\n",
        "    \n",
        "        return full_mt\n",
        "\n",
        "    def fit(self, X, y=None, plot=False):\n",
        "        x_new = self.fft_fit(X)        \n",
        "\n",
        "        # get the convex hull for the points\n",
        "        chvertices = ConvexHull(x_new).vertices\n",
        "\n",
        "        hull_points = x_new[chvertices]\n",
        "\n",
        "        # get minimum bounding rectangle\n",
        "        mbr, mbr_rot = self._minimum_bounding_rectangle(hull_points)\n",
        "        \n",
        "        # matrix rotation\n",
        "        self._xrot = np.dot(mbr_rot, x_new.T).T\n",
        "        \n",
        "        # get feature coordinates from pixel dimension\n",
        "        self._calculate_coords()\n",
        "\n",
        "        #  rotation diagram plot\n",
        "        if plot is True:\n",
        "            plt.scatter(x_new[:, 0], x_new[:, 1], s=1,\n",
        "                        cmap=plt.cm.get_cmap(\"jet\", 10), alpha=0.2)\n",
        "            plt.fill(x_new[chvertices, 0], x_new[chvertices, 1],\n",
        "                     edgecolor='r', fill=False)\n",
        "            plt.fill(mbr[:, 0], mbr[:, 1], edgecolor='g', fill=False)\n",
        "            plt.gca().set_aspect('equal', adjustable='box')\n",
        "            plt.show()\n",
        "        return self\n",
        "\n",
        "    @property\n",
        "    def pixels(self):\n",
        "        # Image matrix dimensions\n",
        "        # Returns:\n",
        "        #     tuples: (height, width)\n",
        "\n",
        "        return self._pixels\n",
        "\n",
        "    @pixels.setter\n",
        "    def pixels(self, pixels):\n",
        "        # set image matrix dimension\n",
        "\n",
        "        if isinstance(pixels, int):\n",
        "            pixels = (pixels, pixels)\n",
        "        self._pixels = pixels\n",
        "        # recalculate coordinates if already fit\n",
        "        if hasattr(self, '_coords'):\n",
        "            self._calculate_coords()\n",
        "\n",
        "    def _calculate_coords(self):\n",
        "\n",
        "        # Calculate matrix coordinates of each feature based on the pixel dimensions\n",
        "\n",
        "\n",
        "        cur_xrp = self._xrot[:, 0]\n",
        "        cur_yrp = self._xrot[:, 1] \n",
        "\n",
        "        ax0_coord = np.digitize(\n",
        "            cur_xrp,\n",
        "            bins=np.linspace(min(cur_xrp), max(cur_xrp),\n",
        "                             self._pixels[0])\n",
        "        ) - 1\n",
        "        ax1_coord = np.digitize(\n",
        "            cur_yrp,\n",
        "            bins=np.linspace(min(cur_yrp), max(cur_yrp),\n",
        "                             self._pixels[1])\n",
        "        ) - 1\n",
        "\n",
        "        self._coords = np.stack((ax0_coord, ax1_coord), axis=1)\n",
        "\n",
        "    def transform(self, X):\n",
        " \n",
        "        img_coords = pd.DataFrame(np.vstack((\n",
        "            self._coords.T,\n",
        "            X\n",
        "        )).T).groupby([0, 1], as_index=False).mean()\n",
        "\n",
        "        img_matrices = []\n",
        "        blank_mat = np.zeros(self._pixels)\n",
        "        \n",
        "        for z in range(2, img_coords.shape[1]):\n",
        "            img_matrix = blank_mat.copy()\n",
        "            img_matrix[img_coords[0].astype(int),\n",
        "                       img_coords[1].astype(int)] = img_coords[z]\n",
        "            img_matrices.append(img_matrix)\n",
        "\n",
        "    \n",
        "        img_matrices = np.array([self._mat_to_rgb(m) for m in img_matrices])\n",
        "        \n",
        "        return img_matrices\n",
        "\n",
        "    def fit_transform(self, X, **kwargs):\n",
        "\n",
        "        self.fit(X)\n",
        "        return self.transform(X, **kwargs)\n",
        "\n",
        "    def feature_density_matrix(self):\n",
        "\n",
        "        fdmat = np.zeros(self._pixels)\n",
        "        np.add.at(fdmat, tuple(self._coords.T), 1)\n",
        "        return fdmat\n",
        "\n",
        "    def coords(self):\n",
        "        #Get feature coordinates\n",
        "\n",
        "        return self._coords.copy()\n",
        "\n",
        "    @staticmethod\n",
        "    def _minimum_bounding_rectangle(hull_points):\n",
        "        \"\"\"Find the smallest bounding rectangle for a set of points.\n",
        "        Modified from JesseBuesking at https://stackoverflow.com/a/33619018\n",
        "        Returns a set of points representing the corners of the bounding box.\n",
        "        Args:\n",
        "            hull_points : an nx2 matrix of hull coordinates\n",
        "        Returns:\n",
        "            (tuple): tuple containing\n",
        "                coords (ndarray): coordinates of the corners of the rectangle\n",
        "                rotmat (ndarray): rotation matrix to align edges of rectangle\n",
        "                    to x and y\n",
        "        \"\"\"\n",
        "\n",
        "        pi2 = np.pi / 2\n",
        "        # calculate edge angles\n",
        "        edges = hull_points[1:] - hull_points[:-1]\n",
        "        angles = np.arctan2(edges[:, 1], edges[:, 0])\n",
        "        angles = np.abs(np.mod(angles, pi2))\n",
        "        angles = np.unique(angles)\n",
        "        # find rotation matrices\n",
        "        rotations = np.vstack([\n",
        "            np.cos(angles),\n",
        "            -np.sin(angles),\n",
        "            np.sin(angles),\n",
        "            np.cos(angles)]).T\n",
        "        rotations = rotations.reshape((-1, 2, 2))\n",
        "        # apply rotations to the hull\n",
        "        rot_points = np.dot(rotations, hull_points.T)\n",
        "        # find the bounding points\n",
        "        min_x = np.nanmin(rot_points[:, 0], axis=1)\n",
        "        max_x = np.nanmax(rot_points[:, 0], axis=1)\n",
        "        min_y = np.nanmin(rot_points[:, 1], axis=1)\n",
        "        max_y = np.nanmax(rot_points[:, 1], axis=1)\n",
        "        # find the box with the best area\n",
        "        areas = (max_x - min_x) * (max_y - min_y)\n",
        "        best_idx = np.argmin(areas)\n",
        "        # return the best box\n",
        "        x1 = max_x[best_idx]\n",
        "        x2 = min_x[best_idx]\n",
        "        y1 = max_y[best_idx]\n",
        "        y2 = min_y[best_idx]\n",
        "        rotmat = rotations[best_idx]\n",
        "        # generate coordinates\n",
        "        coords = np.zeros((4, 2))\n",
        "        coords[0] = np.dot([x1, y2], rotmat)\n",
        "        coords[1] = np.dot([x2, y2], rotmat)\n",
        "        coords[2] = np.dot([x2, y1], rotmat)\n",
        "        coords[3] = np.dot([x1, y1], rotmat)\n",
        "\n",
        "        return coords, rotmat\n",
        "\n",
        "    @staticmethod\n",
        "    def _mat_to_rgb(mat):\n",
        "        \"\"\"Convert image matrix to numpy rgb format\n",
        "        Args:\n",
        "            mat: {array-like} (M, N)\n",
        "        Returns:\n",
        "            An numpy.ndarry (M, N, 3) with orignal values repeated across\n",
        "            RGB channels.\n",
        "        \"\"\"\n",
        "        return np.repeat(mat[:, :, np.newaxis], 3, axis=2)"
      ],
      "execution_count": null,
      "outputs": []
    },
    {
      "cell_type": "code",
      "metadata": {
        "id": "ExTIzSQv_9ss"
      },
      "source": [
        "import h5py"
      ],
      "execution_count": null,
      "outputs": []
    },
    {
      "cell_type": "code",
      "metadata": {
        "id": "5Ghrp-iK_07j"
      },
      "source": [
        "\n",
        "h5f = h5py.File('/content/drive/MyDrive/tm_x_train.h5','r')\n",
        "x_train = h5f['dataset_1'][:]\n",
        "h5f.close()\n",
        "\n",
        "\n",
        "h5f = h5py.File('/content/drive/MyDrive/tm_x_test.h5','r')\n",
        "x_test = h5f['dataset_1'][:]\n",
        "h5f.close()\n",
        "\n",
        "h5f = h5py.File('/content/drive/MyDrive/tm_y_train.h5','r')\n",
        "y_train = h5f['dataset_1'][:]\n",
        "h5f.close()\n",
        "\n",
        "h5f = h5py.File('/content/drive/MyDrive/tm_y_test.h5','r')\n",
        "y_test = h5f['dataset_1'][:]\n",
        "h5f.close()"
      ],
      "execution_count": null,
      "outputs": []
    },
    {
      "cell_type": "code",
      "metadata": {
        "colab": {
          "base_uri": "https://localhost:8080/"
        },
        "id": "MeOHEvoXakq3",
        "outputId": "1e224ea1-9684-480d-8684-4a0ab8b46470"
      },
      "source": [
        "x_train.shape\n"
      ],
      "execution_count": null,
      "outputs": [
        {
          "output_type": "execute_result",
          "data": {
            "text/plain": [
              "(35959, 23433)"
            ]
          },
          "metadata": {},
          "execution_count": 5
        }
      ]
    },
    {
      "cell_type": "code",
      "metadata": {
        "colab": {
          "base_uri": "https://localhost:8080/"
        },
        "id": "b8lDG303aoq1",
        "outputId": "7aed4bcd-31e6-4ea2-bbfd-7d5b012c4a41"
      },
      "source": [
        "x_test.shape"
      ],
      "execution_count": null,
      "outputs": [
        {
          "output_type": "execute_result",
          "data": {
            "text/plain": [
              "(8990, 23433)"
            ]
          },
          "metadata": {},
          "execution_count": 6
        }
      ]
    },
    {
      "cell_type": "code",
      "metadata": {
        "id": "vOwRuzj8aqpC"
      },
      "source": [
        "# x_train = x_train[0:11986]\n",
        "# x_test = x_test[0:2696]\n",
        "# y_train = y_train[0:11986]\n",
        "# y_test = y_test[0:2696]\n",
        "\n",
        "x_train = x_train[0:8989]\n",
        "x_test = x_test[0:2247]\n",
        "y_train = y_train[0:8989]\n",
        "y_test = y_test[0:2247]"
      ],
      "execution_count": null,
      "outputs": []
    },
    {
      "cell_type": "code",
      "metadata": {
        "colab": {
          "base_uri": "https://localhost:8080/"
        },
        "id": "ehBSsJBdbuW0",
        "outputId": "eeb8a049-168c-4bae-b21c-0d09cff66130"
      },
      "source": [
        "\n",
        "x_train = np.nan_to_num(x_train)\n",
        "x_test = np.nan_to_num(x_test)\n",
        "sum_train = np.sum(x_train,axis=1)\n",
        "sum_train = sum_train.reshape(sum_train.shape[0],-1)\n",
        "sum_test = np.sum(x_test,axis=1)\n",
        "sum_test = sum_test.reshape(sum_test.shape[0],-1)\n",
        "\n",
        "\n",
        "x_train = np.divide(x_train, sum_train)\n",
        "x_test =  np.divide(x_test, sum_test)\n",
        "print(x_train.shape)\n"
      ],
      "execution_count": null,
      "outputs": [
        {
          "output_type": "stream",
          "name": "stdout",
          "text": [
            "(8989, 23433)\n"
          ]
        }
      ]
    },
    {
      "cell_type": "code",
      "metadata": {
        "colab": {
          "base_uri": "https://localhost:8080/"
        },
        "id": "6ul1WXEAgmBp",
        "outputId": "5347398a-6210-42cf-d6b5-9d92eb0ce1b4"
      },
      "source": [
        "import gc\n",
        "\n",
        "del sum_train\n",
        "del sum_test\n",
        "\n",
        "gc.collect()"
      ],
      "execution_count": null,
      "outputs": [
        {
          "output_type": "execute_result",
          "data": {
            "text/plain": [
              "61"
            ]
          },
          "metadata": {},
          "execution_count": 9
        }
      ]
    },
    {
      "cell_type": "code",
      "metadata": {
        "id": "RjCJeVmp_WSS"
      },
      "source": [
        "ln = LogScaler()\n",
        "\n",
        "x_train = ln.fit_transform(x_train)\n",
        "x_test = ln.transform(x_test)\n"
      ],
      "execution_count": null,
      "outputs": []
    },
    {
      "cell_type": "code",
      "metadata": {
        "colab": {
          "base_uri": "https://localhost:8080/",
          "height": 265
        },
        "id": "4P1cbxJS_kr6",
        "outputId": "4169d8df-22c3-4106-e460-213a6149fbf5"
      },
      "source": [
        "it = FftTransformer(pixels=124)\n",
        "_ = it.fit(x_train, plot=True)"
      ],
      "execution_count": null,
      "outputs": [
        {
          "output_type": "display_data",
          "data": {
            "image/png": "[encoded data removed]",
            "text/plain": [
              "<Figure size 432x288 with 1 Axes>"
            ]
          },
          "metadata": {
            "needs_background": "light"
          }
        }
      ]
    },
    {
      "cell_type": "code",
      "metadata": {
        "colab": {
          "base_uri": "https://localhost:8080/"
        },
        "id": "5dEaYgGhgzG7",
        "outputId": "7cc1f159-7e5c-4e00-ffe4-93cdf3f12e41"
      },
      "source": [
        "del _\n",
        "gc.collect()"
      ],
      "execution_count": null,
      "outputs": [
        {
          "output_type": "execute_result",
          "data": {
            "text/plain": [
              "2478"
            ]
          },
          "metadata": {},
          "execution_count": 12
        }
      ]
    },
    {
      "cell_type": "code",
      "metadata": {
        "id": "Jclqpecf_lPK",
        "colab": {
          "base_uri": "https://localhost:8080/"
        },
        "outputId": "b58b6edb-65ae-4401-aadd-348de2ca66ae"
      },
      "source": [
        "x_train = it.transform(x_train)\n",
        "x_train.shape"
      ],
      "execution_count": null,
      "outputs": [
        {
          "output_type": "execute_result",
          "data": {
            "text/plain": [
              "(8989, 124, 124, 3)"
            ]
          },
          "metadata": {},
          "execution_count": 13
        }
      ]
    },
    {
      "cell_type": "code",
      "metadata": {
        "id": "IpnGf2DO_nll",
        "colab": {
          "base_uri": "https://localhost:8080/"
        },
        "outputId": "f439083f-238e-431b-c1a1-5e034e32c6d4"
      },
      "source": [
        "x_test = it.transform(x_test)\n",
        "x_test.shape"
      ],
      "execution_count": null,
      "outputs": [
        {
          "output_type": "execute_result",
          "data": {
            "text/plain": [
              "(2247, 124, 124, 3)"
            ]
          },
          "metadata": {},
          "execution_count": 14
        }
      ]
    },
    {
      "cell_type": "code",
      "metadata": {
        "id": "arC2BXGu_qCe",
        "colab": {
          "base_uri": "https://localhost:8080/",
          "height": 392
        },
        "outputId": "046b4ae0-1f76-4af1-dde4-964791686f7c"
      },
      "source": [
        "print(\"Train img\")\n",
        "plt.figure(figsize=(15,4))\n",
        "\n",
        "#subplot(r,c) provide the no. of rows and columns\n",
        "f, axarr = plt.subplots(1,10,figsize=(30,30)) \n",
        "\n",
        "for i in range(10):\n",
        "    axarr[i].imshow(x_train[i])\n",
        "    print(y_train[i])"
      ],
      "execution_count": null,
      "outputs": [
        {
          "output_type": "stream",
          "name": "stdout",
          "text": [
            "Train img\n",
            "24.0\n",
            "90.0\n",
            "13.0\n",
            "9.0\n",
            "62.0\n",
            "23.0\n",
            "30.0\n",
            "92.0\n",
            "110.0\n",
            "79.0\n"
          ]
        },
        {
          "output_type": "display_data",
          "data": {
            "text/plain": [
              "<Figure size 1080x288 with 0 Axes>"
            ]
          },
          "metadata": {}
        },
        {
          "output_type": "display_data",
          "data": {
            "image/png": "[encoded data removed]",
            "text/plain": [
              "<Figure size 2160x2160 with 10 Axes>"
            ]
          },
          "metadata": {
            "needs_background": "light"
          }
        }
      ]
    },
    {
      "cell_type": "code",
      "metadata": {
        "id": "5DL1QIqGePyk"
      },
      "source": [
        "import tensorflow as tf\n",
        "from tensorflow.keras.models import Sequential\n",
        "from tensorflow.keras.layers import Dense, Dropout, Activation, Flatten\n",
        "from tensorflow.keras.layers import Conv2D, MaxPooling2D\n",
        "from tensorflow.keras.utils import to_categorical\n",
        "from keras import layers"
      ],
      "execution_count": null,
      "outputs": []
    },
    {
      "cell_type": "code",
      "metadata": {
        "id": "EhvT_NxdeUzQ"
      },
      "source": [
        "df_y_train = to_categorical(y_train,num_classes=120)"
      ],
      "execution_count": null,
      "outputs": []
    },
    {
      "cell_type": "code",
      "metadata": {
        "id": "YsLzdejSekv-",
        "colab": {
          "base_uri": "https://localhost:8080/"
        },
        "outputId": "403a994c-e4ff-43e4-c145-25d587889d08"
      },
      "source": [
        "from keras.callbacks import EarlyStopping, ModelCheckpoint , ReduceLROnPlateau\n",
        "\n",
        "\n",
        "model = Sequential()\n",
        "model.add(Conv2D(64,(3,3),input_shape=(124,124,3)) )\n",
        "model.add(Activation(\"relu\"))\n",
        "model.add(MaxPooling2D(pool_size=(2,2)))\n",
        "model.add(Conv2D(64,(3,3) ))\n",
        "model.add(Activation(\"relu\"))\n",
        "model.add(MaxPooling2D(pool_size=(2,2)))\n",
        "model.add(Flatten())\n",
        "model.add(Dense(64))\n",
        "model.add(Dense(120))\n",
        "model.add(Activation('sigmoid'))\n",
        "model.compile(optimizer='adam',\n",
        "              loss='binary_crossentropy',\n",
        "              metrics=['categorical_accuracy'])\n",
        "\n",
        "earlyStopping = EarlyStopping(monitor='val_loss', patience=10, verbose=1, mode='auto')\n",
        "mcp_save = ModelCheckpoint('.mdl_wts.hdf5', save_best_only=True, monitor='val_loss', mode='auto')\n",
        "reduce_lr_loss = ReduceLROnPlateau(monitor='val_loss', factor=0.1, patience=8, verbose=1, min_delta=1e-4, mode='auto')\n",
        "\n",
        "model.fit(x_train, df_y_train, batch_size=32, epochs=90, verbose=1, callbacks=[earlyStopping, mcp_save, reduce_lr_loss], validation_split=0.2)"
      ],
      "execution_count": null,
      "outputs": [
        {
          "output_type": "stream",
          "name": "stdout",
          "text": [
            "Epoch 1/90\n",
            "225/225 [==============================] - 23s 47ms/step - loss: 0.0696 - categorical_accuracy: 0.0980 - val_loss: 0.0402 - val_categorical_accuracy: 0.1897 - lr: 0.0010\n",
            "Epoch 2/90\n",
            "225/225 [==============================] - 9s 42ms/step - loss: 0.0305 - categorical_accuracy: 0.4308 - val_loss: 0.0228 - val_categorical_accuracy: 0.6229 - lr: 0.0010\n",
            "Epoch 3/90\n",
            "225/225 [==============================] - 9s 42ms/step - loss: 0.0193 - categorical_accuracy: 0.6771 - val_loss: 0.0175 - val_categorical_accuracy: 0.7130 - lr: 0.0010\n",
            "Epoch 4/90\n",
            "225/225 [==============================] - 9s 42ms/step - loss: 0.0152 - categorical_accuracy: 0.7441 - val_loss: 0.0155 - val_categorical_accuracy: 0.7458 - lr: 0.0010\n",
            "Epoch 5/90\n",
            "225/225 [==============================] - 9s 42ms/step - loss: 0.0126 - categorical_accuracy: 0.7851 - val_loss: 0.0140 - val_categorical_accuracy: 0.7608 - lr: 0.0010\n",
            "Epoch 6/90\n",
            "225/225 [==============================] - 10s 43ms/step - loss: 0.0112 - categorical_accuracy: 0.8138 - val_loss: 0.0132 - val_categorical_accuracy: 0.7859 - lr: 0.0010\n",
            "Epoch 7/90\n",
            "225/225 [==============================] - 9s 42ms/step - loss: 0.0099 - categorical_accuracy: 0.8277 - val_loss: 0.0126 - val_categorical_accuracy: 0.7976 - lr: 0.0010\n",
            "Epoch 8/90\n",
            "225/225 [==============================] - 10s 43ms/step - loss: 0.0090 - categorical_accuracy: 0.8469 - val_loss: 0.0121 - val_categorical_accuracy: 0.8026 - lr: 0.0010\n",
            "Epoch 9/90\n",
            "225/225 [==============================] - 10s 43ms/step - loss: 0.0082 - categorical_accuracy: 0.8609 - val_loss: 0.0115 - val_categorical_accuracy: 0.8192 - lr: 0.0010\n",
            "Epoch 10/90\n",
            "225/225 [==============================] - 9s 42ms/step - loss: 0.0075 - categorical_accuracy: 0.8730 - val_loss: 0.0120 - val_categorical_accuracy: 0.8254 - lr: 0.0010\n",
            "Epoch 11/90\n",
            "225/225 [==============================] - 9s 41ms/step - loss: 0.0071 - categorical_accuracy: 0.8805 - val_loss: 0.0115 - val_categorical_accuracy: 0.8142 - lr: 0.0010\n",
            "Epoch 12/90\n",
            "225/225 [==============================] - 10s 43ms/step - loss: 0.0066 - categorical_accuracy: 0.8907 - val_loss: 0.0113 - val_categorical_accuracy: 0.8337 - lr: 0.0010\n",
            "Epoch 13/90\n",
            "225/225 [==============================] - 10s 42ms/step - loss: 0.0061 - categorical_accuracy: 0.8995 - val_loss: 0.0111 - val_categorical_accuracy: 0.8281 - lr: 0.0010\n",
            "Epoch 14/90\n",
            "225/225 [==============================] - 9s 42ms/step - loss: 0.0056 - categorical_accuracy: 0.9121 - val_loss: 0.0113 - val_categorical_accuracy: 0.8359 - lr: 0.0010\n",
            "Epoch 15/90\n",
            "225/225 [==============================] - 9s 41ms/step - loss: 0.0052 - categorical_accuracy: 0.9160 - val_loss: 0.0114 - val_categorical_accuracy: 0.8359 - lr: 0.0010\n",
            "Epoch 16/90\n",
            "225/225 [==============================] - 10s 44ms/step - loss: 0.0048 - categorical_accuracy: 0.9238 - val_loss: 0.0114 - val_categorical_accuracy: 0.8404 - lr: 0.0010\n",
            "Epoch 17/90\n",
            "225/225 [==============================] - 9s 42ms/step - loss: 0.0045 - categorical_accuracy: 0.9316 - val_loss: 0.0118 - val_categorical_accuracy: 0.8348 - lr: 0.0010\n",
            "Epoch 18/90\n",
            "225/225 [==============================] - 9s 42ms/step - loss: 0.0043 - categorical_accuracy: 0.9385 - val_loss: 0.0114 - val_categorical_accuracy: 0.8365 - lr: 0.0010\n",
            "Epoch 19/90\n",
            "225/225 [==============================] - 9s 42ms/step - loss: 0.0040 - categorical_accuracy: 0.9433 - val_loss: 0.0118 - val_categorical_accuracy: 0.8454 - lr: 0.0010\n",
            "Epoch 20/90\n",
            "225/225 [==============================] - 9s 41ms/step - loss: 0.0037 - categorical_accuracy: 0.9469 - val_loss: 0.0123 - val_categorical_accuracy: 0.8343 - lr: 0.0010\n",
            "Epoch 21/90\n",
            "224/225 [============================>.] - ETA: 0s - loss: 0.0035 - categorical_accuracy: 0.9523\n",
            "Epoch 00021: ReduceLROnPlateau reducing learning rate to 0.00010000000474974513.\n",
            "225/225 [==============================] - 10s 42ms/step - loss: 0.0035 - categorical_accuracy: 0.9523 - val_loss: 0.0117 - val_categorical_accuracy: 0.8420 - lr: 0.0010\n",
            "Epoch 22/90\n",
            "225/225 [==============================] - 9s 42ms/step - loss: 0.0022 - categorical_accuracy: 0.9737 - val_loss: 0.0112 - val_categorical_accuracy: 0.8526 - lr: 1.0000e-04\n",
            "Epoch 23/90\n",
            "225/225 [==============================] - 10s 42ms/step - loss: 0.0020 - categorical_accuracy: 0.9776 - val_loss: 0.0113 - val_categorical_accuracy: 0.8471 - lr: 1.0000e-04\n",
            "Epoch 00023: early stopping\n"
          ]
        },
        {
          "output_type": "execute_result",
          "data": {
            "text/plain": [
              "<keras.callbacks.History at 0x7fb397e3bdd0>"
            ]
          },
          "metadata": {},
          "execution_count": 18
        }
      ]
    },
    {
      "cell_type": "code",
      "metadata": {
        "id": "81YSENxRfGUK",
        "colab": {
          "base_uri": "https://localhost:8080/"
        },
        "outputId": "8c43c262-7e01-452a-ecc5-3ad8b399b1de"
      },
      "source": [
        "df_y_test = to_categorical(y_test,num_classes=120)\n",
        "\n",
        "val_loss, val_acc = model.evaluate(x_test,df_y_test)\n",
        "print(val_loss, val_acc)"
      ],
      "execution_count": null,
      "outputs": [
        {
          "output_type": "stream",
          "name": "stdout",
          "text": [
            "71/71 [==============================] - 1s 16ms/step - loss: 0.0129 - categorical_accuracy: 0.8429\n",
            "0.01285441406071186 0.8429016470909119\n"
          ]
        }
      ]
    },
    {
      "cell_type": "code",
      "metadata": {
        "id": "CJWldnb6fPFz",
        "colab": {
          "base_uri": "https://localhost:8080/"
        },
        "outputId": "d2678bc3-8731-4f84-d374-2d255258c4a1"
      },
      "source": [
        "from sklearn.metrics import accuracy_score\n",
        "from sklearn.metrics import f1_score\n",
        "\n",
        "y_pred = model.predict(x_test)\n",
        "y_pred = np.argmax(y_pred,axis=1)\n",
        "\n",
        "#print(y_pred[0:50])\n",
        "\n",
        "out_acc = accuracy_score(y_test, y_pred)\n",
        "out_f1 = f1_score(y_test, y_pred,average ='micro')\n",
        "\n",
        "print(\"Accuracy: {}\".format(round(out_acc,4)))\n",
        "print(\"F1 Score(micro): {}\".format(round(out_f1,4)))\n",
        "\n",
        "out_f1 = f1_score(y_test, y_pred,average ='macro')\n",
        "print(\"F1 Score(macro): {}\".format(round(out_f1,4)))\n",
        "\n",
        "out_f1 = f1_score(y_test, y_pred,average ='weighted')\n",
        "print(\"F1 Score(weighted): {}\".format(round(out_f1,4)))"
      ],
      "execution_count": null,
      "outputs": [
        {
          "output_type": "stream",
          "name": "stdout",
          "text": [
            "Accuracy: 0.8429\n",
            "F1 Score(micro): 0.8429\n",
            "F1 Score(macro): 0.5978\n",
            "F1 Score(weighted): 0.8341\n"
          ]
        }
      ]
    }
  ]
}