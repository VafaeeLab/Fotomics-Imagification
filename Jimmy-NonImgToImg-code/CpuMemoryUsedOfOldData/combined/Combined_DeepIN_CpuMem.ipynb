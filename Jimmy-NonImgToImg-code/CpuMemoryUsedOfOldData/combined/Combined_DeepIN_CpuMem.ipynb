{
  "nbformat": 4,
  "nbformat_minor": 0,
  "metadata": {
    "colab": {
      "provenance": [],
      "collapsed_sections": [],
      "machine_shape": "hm"
    },
    "kernelspec": {
      "name": "python3",
      "display_name": "Python 3"
    },
    "language_info": {
      "name": "python"
    },
    "gpuClass": "standard"
  },
  "cells": [
    {
      "cell_type": "code",
      "execution_count": 1,
      "metadata": {
        "colab": {
          "base_uri": "https://localhost:8080/"
        },
        "id": "AFiho_TAG0FL",
        "outputId": "9a2812a3-dba3-404e-abb1-81ae11e38db8"
      },
      "outputs": [
        {
          "output_type": "stream",
          "name": "stdout",
          "text": [
            "Mounted at /content/drive/\n"
          ]
        }
      ],
      "source": [
        "from google.colab import drive \n",
        "drive.mount('/content/drive/')"
      ]
    },
    {
      "cell_type": "code",
      "source": [
        "import numpy as np\n",
        "import pandas as pd\n",
        "from sklearn.decomposition import PCA, KernelPCA\n",
        "from sklearn.manifold import TSNE\n",
        "from scipy.spatial import ConvexHull\n",
        "from matplotlib import pyplot as plt\n",
        "import inspect\n",
        "\n",
        "\n",
        "class ImageTransformer:\n",
        "    \"\"\"Transform features to an image matrix using dimensionality reduction\n",
        "    This class takes in data normalized between 0 and 1 and converts it to a\n",
        "    CNN compatible 'image' matrix\n",
        "    \"\"\"\n",
        "\n",
        "    def __init__(self, feature_extractor='tsne', pixels=100,\n",
        "                 random_state=None, n_jobs=None):\n",
        "        \"\"\"Generate an ImageTransformer instance\n",
        "        Args:\n",
        "            feature_extractor: string of value ('tsne', 'pca', 'kpca') or a\n",
        "                class instance with method `fit_transform` that returns a\n",
        "                2-dimensional array of extracted features.\n",
        "            pixels: int (square matrix) or tuple of ints (height, width) that\n",
        "                defines the size of the image matrix.\n",
        "            random_state: int or RandomState. Determines the random number\n",
        "                generator, if present, of a string defined feature_extractor.\n",
        "            n_jobs: The number of parallel jobs to run for a string defined\n",
        "                feature_extractor.\n",
        "        \"\"\"\n",
        "        self.random_state = random_state\n",
        "        self.n_jobs = n_jobs\n",
        "\n",
        "        if isinstance(feature_extractor, str):\n",
        "            fe = feature_extractor.casefold()\n",
        "            if fe == 'tsne'.casefold():\n",
        "                fe = TSNE(\n",
        "                    n_components=2, metric='cosine',\n",
        "                    random_state=self.random_state,\n",
        "                    n_jobs=self.n_jobs)\n",
        "            elif fe == 'pca'.casefold():\n",
        "                fe = PCA(n_components=2,\n",
        "                         random_state=self.random_state)\n",
        "            elif fe == 'kpca'.casefold():\n",
        "                fe = KernelPCA(\n",
        "                    n_components=2, kernel='rbf',\n",
        "                    random_state=self.random_state,\n",
        "                    n_jobs=self.n_jobs)\n",
        "            else:\n",
        "                raise ValueError((\"Feature extraction method '{}' not accepted\"\n",
        "                                  ).format(feature_extractor))\n",
        "            self._fe = fe\n",
        "        elif hasattr(feature_extractor, 'fit_transform') and \\\n",
        "                inspect.ismethod(feature_extractor.fit_transform):\n",
        "            self._fe = feature_extractor\n",
        "        else:\n",
        "            raise TypeError('Parameter feature_extractor is not a '\n",
        "                            'string nor has method \"fit_transform\"')\n",
        "\n",
        "        if isinstance(pixels, int):\n",
        "            pixels = (pixels, pixels)\n",
        "        self._pixels = pixels\n",
        "        self._xrot = None\n",
        "\n",
        "    def fit(self, X, y=None, plot=False):\n",
        "        \"\"\"Train the image transformer from the training set (X)\n",
        "        Args:\n",
        "            X: {array-like, sparse matrix} of shape (n_samples, n_features)\n",
        "            y: Ignored. Present for continuity with scikit-learn\n",
        "            plot: boolean of whether to produce a scatter plot showing the\n",
        "                feature reduction, hull points, and minimum bounding rectangle\n",
        "        Returns:\n",
        "            self: object\n",
        "        \"\"\"\n",
        "        # perform dimensionality reduction\n",
        "        x_new = self._fe.fit_transform(X.T)\n",
        "        # get the convex hull for the points\n",
        "        chvertices = ConvexHull(x_new).vertices\n",
        "        hull_points = x_new[chvertices]\n",
        "        # determine the minimum bounding rectangle\n",
        "        mbr, mbr_rot = self._minimum_bounding_rectangle(hull_points)\n",
        "        # rotate the matrix\n",
        "        # save the rotated matrix in case user wants to change the pixel size\n",
        "        self._xrot = np.dot(mbr_rot, x_new.T).T\n",
        "        # determine feature coordinates based on pixel dimension\n",
        "        self._calculate_coords()\n",
        "        # plot rotation diagram if requested\n",
        "        if plot is True:\n",
        "            plt.scatter(x_new[:, 0], x_new[:, 1], s=1,\n",
        "                        cmap=plt.cm.get_cmap(\"jet\", 10), alpha=0.2)\n",
        "            plt.fill(x_new[chvertices, 0], x_new[chvertices, 1],\n",
        "                     edgecolor='r', fill=False)\n",
        "            plt.fill(mbr[:, 0], mbr[:, 1], edgecolor='g', fill=False)\n",
        "            plt.gca().set_aspect('equal', adjustable='box')\n",
        "            plt.show()\n",
        "        return self\n",
        "\n",
        "    @property\n",
        "    def pixels(self):\n",
        "        \"\"\"The image matrix dimensions\n",
        "        Returns:\n",
        "            tuple: the image matrix dimensions (height, width)\n",
        "        \"\"\"\n",
        "        return self._pixels\n",
        "\n",
        "    @pixels.setter\n",
        "    def pixels(self, pixels):\n",
        "        \"\"\"Set the image matrix dimension\n",
        "        Args:\n",
        "            pixels: int or tuple with the dimensions (height, width)\n",
        "            of the image matrix\n",
        "        \"\"\"\n",
        "        if isinstance(pixels, int):\n",
        "            pixels = (pixels, pixels)\n",
        "        self._pixels = pixels\n",
        "        # recalculate coordinates if already fit\n",
        "        if hasattr(self, '_coords'):\n",
        "            self._calculate_coords()\n",
        "\n",
        "    def _calculate_coords(self):\n",
        "        \"\"\"Calculate the matrix coordinates of each feature based on the\n",
        "        pixel dimensions.\n",
        "        \"\"\"\n",
        "        ax0_coord = np.digitize(\n",
        "            self._xrot[:, 0],\n",
        "            bins=np.linspace(min(self._xrot[:, 0]), max(self._xrot[:, 0]),\n",
        "                             self._pixels[0])\n",
        "        ) - 1\n",
        "        ax1_coord = np.digitize(\n",
        "            self._xrot[:, 1],\n",
        "            bins=np.linspace(min(self._xrot[:, 1]), max(self._xrot[:, 1]),\n",
        "                             self._pixels[1])\n",
        "        ) - 1\n",
        "        self._coords = np.stack((ax0_coord, ax1_coord), axis=1)\n",
        "\n",
        "    def transform(self, X, format='rgb', empty_value=0):\n",
        "        \"\"\"Transform the input matrix into image matrices\n",
        "        Args:\n",
        "            X: {array-like, sparse matrix} of shape (n_samples, n_features)\n",
        "                where n_features matches the training set.\n",
        "            format: The format of the image matrix to return. 'scalar' return a\n",
        "                array of shape (M, N). 'rgb' returns an numpy.ndarray of shape\n",
        "                (M, N, 3) that is compatible with PIL.\n",
        "            empty_value: numeric value to fill elements where no features are\n",
        "                mapped. Default = 0.\n",
        "        Returns:\n",
        "            A list of n_samples numpy matrices of dimensions set by\n",
        "            the pixel parameter\n",
        "        \"\"\"\n",
        "        img_coords = pd.DataFrame(np.vstack((\n",
        "            self._coords.T,\n",
        "            X\n",
        "        )).T).groupby([0, 1], as_index=False).mean()\n",
        "\n",
        "        img_matrices = []\n",
        "        blank_mat = np.zeros(self._pixels)\n",
        "        if empty_value != 0:\n",
        "            blank_mat[:] = empty_value\n",
        "        for z in range(2, img_coords.shape[1]):\n",
        "            img_matrix = blank_mat.copy()\n",
        "            img_matrix[img_coords[0].astype(int),\n",
        "                       img_coords[1].astype(int)] = img_coords[z]\n",
        "            img_matrices.append(img_matrix)\n",
        "\n",
        "        if format=='rgb':\n",
        "            img_matrices = np.array([self._mat_to_rgb(m) for m in img_matrices])\n",
        "        elif format=='scalar':\n",
        "            pass\n",
        "        else:\n",
        "            raise ValueError((\"'{}' not accepted for parameter 'format'\")\n",
        "                             .format(format))\n",
        "\n",
        "        return img_matrices\n",
        "\n",
        "    def fit_transform(self, X, **kwargs):\n",
        "        \"\"\"Train the image transformer from the training set (X) and return\n",
        "        the transformed data.\n",
        "        Args:\n",
        "            X: {array-like, sparse matrix} of shape (n_samples, n_features)\n",
        "        Returns:\n",
        "            A list of n_samples numpy matrices of dimensions set by\n",
        "            the pixel parameter\n",
        "        \"\"\"\n",
        "        self.fit(X)\n",
        "        return self.transform(X, **kwargs)\n",
        "\n",
        "    def feature_density_matrix(self):\n",
        "        \"\"\"Generate image matrix with feature counts per pixel\n",
        "        Returns:\n",
        "            img_matrix (ndarray): matrix with feature counts per pixel\n",
        "        \"\"\"\n",
        "        fdmat = np.zeros(self._pixels)\n",
        "        np.add.at(fdmat, tuple(self._coords.T), 1)\n",
        "        return fdmat\n",
        "\n",
        "    def coords(self):\n",
        "        \"\"\"Get feature coordinates\n",
        "        Returns:\n",
        "            ndarray: the pixel coordinates for features\n",
        "        \"\"\"\n",
        "        return self._coords.copy()\n",
        "\n",
        "    @staticmethod\n",
        "    def _minimum_bounding_rectangle(hull_points):\n",
        "        \"\"\"Find the smallest bounding rectangle for a set of points.\n",
        "        Modified from JesseBuesking at https://stackoverflow.com/a/33619018\n",
        "        Returns a set of points representing the corners of the bounding box.\n",
        "        Args:\n",
        "            hull_points : an nx2 matrix of hull coordinates\n",
        "        Returns:\n",
        "            (tuple): tuple containing\n",
        "                coords (ndarray): coordinates of the corners of the rectangle\n",
        "                rotmat (ndarray): rotation matrix to align edges of rectangle\n",
        "                    to x and y\n",
        "        \"\"\"\n",
        "\n",
        "        pi2 = np.pi / 2\n",
        "        # calculate edge angles\n",
        "        edges = hull_points[1:] - hull_points[:-1]\n",
        "        angles = np.arctan2(edges[:, 1], edges[:, 0])\n",
        "        angles = np.abs(np.mod(angles, pi2))\n",
        "        angles = np.unique(angles)\n",
        "        # find rotation matrices\n",
        "        rotations = np.vstack([\n",
        "            np.cos(angles),\n",
        "            -np.sin(angles),\n",
        "            np.sin(angles),\n",
        "            np.cos(angles)]).T\n",
        "        rotations = rotations.reshape((-1, 2, 2))\n",
        "        # apply rotations to the hull\n",
        "        rot_points = np.dot(rotations, hull_points.T)\n",
        "        # find the bounding points\n",
        "        min_x = np.nanmin(rot_points[:, 0], axis=1)\n",
        "        max_x = np.nanmax(rot_points[:, 0], axis=1)\n",
        "        min_y = np.nanmin(rot_points[:, 1], axis=1)\n",
        "        max_y = np.nanmax(rot_points[:, 1], axis=1)\n",
        "        # find the box with the best area\n",
        "        areas = (max_x - min_x) * (max_y - min_y)\n",
        "        best_idx = np.argmin(areas)\n",
        "        # return the best box\n",
        "        x1 = max_x[best_idx]\n",
        "        x2 = min_x[best_idx]\n",
        "        y1 = max_y[best_idx]\n",
        "        y2 = min_y[best_idx]\n",
        "        rotmat = rotations[best_idx]\n",
        "        # generate coordinates\n",
        "        coords = np.zeros((4, 2))\n",
        "        coords[0] = np.dot([x1, y2], rotmat)\n",
        "        coords[1] = np.dot([x2, y2], rotmat)\n",
        "        coords[2] = np.dot([x2, y1], rotmat)\n",
        "        coords[3] = np.dot([x1, y1], rotmat)\n",
        "\n",
        "        return coords, rotmat\n",
        "\n",
        "    @staticmethod\n",
        "    def _mat_to_rgb(mat):\n",
        "        \"\"\"Convert image matrix to numpy rgb format\n",
        "        Args:\n",
        "            mat: {array-like} (M, N)\n",
        "        Returns:\n",
        "            An numpy.ndarry (M, N, 3) with orignal values repeated across\n",
        "            RGB channels.\n",
        "        \"\"\"\n",
        "        return np.repeat(mat[:, :, np.newaxis], 3, axis=2)\n",
        "\n",
        "\n",
        "class LogScaler:\n",
        "    \"\"\"Log normalize and scale data\n",
        "    Log normalization and scaling procedure as described as norm-2 in the\n",
        "    DeepInsight paper supplementary information.\n",
        "    \"\"\"\n",
        "\n",
        "    def __init__(self):\n",
        "        self._min0 = None\n",
        "        self._max = None\n",
        "        pass\n",
        "\n",
        "    def fit(self, X, y=None):\n",
        "        self._min0 = X.min(axis=0)\n",
        "        self._max = np.log(X + np.abs(self._min0) + 1).max()\n",
        "\n",
        "    def fit_transform(self, X, y=None):\n",
        "        self._min0 = X.min(axis=0)\n",
        "        X_norm = np.log(X + np.abs(self._min0) + 1)\n",
        "        self._max = X_norm.max()\n",
        "        return X_norm / self._max\n",
        "\n",
        "    def transform(self, X, y=None):\n",
        "        X_norm = np.log(X + np.abs(self._min0) + 1).clip(0, None)\n",
        "        return (X_norm / self._max).clip(0, 1)"
      ],
      "metadata": {
        "id": "YbROIDigHQQ7"
      },
      "execution_count": 2,
      "outputs": []
    },
    {
      "cell_type": "code",
      "source": [
        "\n",
        "import h5py"
      ],
      "metadata": {
        "id": "TiXrt7OAHUKK"
      },
      "execution_count": 3,
      "outputs": []
    },
    {
      "cell_type": "code",
      "source": [
        "h5f = h5py.File('/content/drive/MyDrive/tm_x_train.h5','r')\n",
        "x_train = h5f['dataset_1'][:]\n",
        "h5f.close()"
      ],
      "metadata": {
        "id": "xX7PEDIyHVgk"
      },
      "execution_count": 4,
      "outputs": []
    },
    {
      "cell_type": "code",
      "source": [
        "x_train = x_train[0:11986]"
      ],
      "metadata": {
        "id": "PfowOvYaHXED"
      },
      "execution_count": 5,
      "outputs": []
    },
    {
      "cell_type": "code",
      "source": [
        "ln = LogScaler()\n",
        "\n",
        "x_train = ln.fit_transform(x_train)"
      ],
      "metadata": {
        "id": "6xoLpqURHYVl"
      },
      "execution_count": 6,
      "outputs": []
    },
    {
      "cell_type": "code",
      "source": [
        "it = ImageTransformer(pixels=124)"
      ],
      "metadata": {
        "id": "0FvizYo5Hxe1"
      },
      "execution_count": 7,
      "outputs": []
    },
    {
      "cell_type": "code",
      "source": [
        "pip install memory_profiler"
      ],
      "metadata": {
        "id": "TBk0_LPHHdlw",
        "colab": {
          "base_uri": "https://localhost:8080/"
        },
        "outputId": "deaf3dfb-62ba-4ad5-810a-c1cda0c1cd86"
      },
      "execution_count": 8,
      "outputs": [
        {
          "output_type": "stream",
          "name": "stdout",
          "text": [
            "Looking in indexes: https://pypi.org/simple, https://us-python.pkg.dev/colab-wheels/public/simple/\n",
            "Collecting memory_profiler\n",
            "  Downloading memory_profiler-0.60.0.tar.gz (38 kB)\n",
            "Requirement already satisfied: psutil in /usr/local/lib/python3.7/dist-packages (from memory_profiler) (5.4.8)\n",
            "Building wheels for collected packages: memory-profiler\n",
            "  Building wheel for memory-profiler (setup.py) ... \u001b[?25l\u001b[?25hdone\n",
            "  Created wheel for memory-profiler: filename=memory_profiler-0.60.0-py3-none-any.whl size=31284 sha256=17825424b1216d2025692f50c94e7e2bfde738061ec5a473dc4336748319a575\n",
            "  Stored in directory: /root/.cache/pip/wheels/67/2b/fb/326e30d638c538e69a5eb0aa47f4223d979f502bbdb403950f\n",
            "Successfully built memory-profiler\n",
            "Installing collected packages: memory-profiler\n",
            "Successfully installed memory-profiler-0.60.0\n"
          ]
        }
      ]
    },
    {
      "cell_type": "code",
      "source": [
        "%load_ext memory_profiler"
      ],
      "metadata": {
        "id": "uApQLnSzHgkG"
      },
      "execution_count": 9,
      "outputs": []
    },
    {
      "cell_type": "code",
      "source": [
        "%%time\n",
        "%memit\n",
        "\n",
        "\n",
        "_ = it.fit(x_train, plot=True)\n",
        "\n",
        "x_train = it.transform(x_train)"
      ],
      "metadata": {
        "id": "RugTvE16HZkB",
        "colab": {
          "base_uri": "https://localhost:8080/",
          "height": 441
        },
        "outputId": "48241f9b-c056-4376-c7c4-3a7e72e277e3"
      },
      "execution_count": 10,
      "outputs": [
        {
          "output_type": "stream",
          "name": "stdout",
          "text": [
            "peak memory: 5551.54 MiB, increment: 0.06 MiB\n"
          ]
        },
        {
          "output_type": "stream",
          "name": "stderr",
          "text": [
            "/usr/local/lib/python3.7/dist-packages/sklearn/manifold/_t_sne.py:783: FutureWarning: The default initialization in TSNE will change from 'random' to 'pca' in 1.2.\n",
            "  FutureWarning,\n",
            "/usr/local/lib/python3.7/dist-packages/sklearn/manifold/_t_sne.py:793: FutureWarning: The default learning rate in TSNE will change from 200.0 to 'auto' in 1.2.\n",
            "  FutureWarning,\n",
            "/usr/local/lib/python3.7/dist-packages/sklearn/manifold/_t_sne.py:827: FutureWarning: 'square_distances' has been introduced in 0.24 to help phase out legacy squaring behavior. The 'legacy' setting will be removed in 1.1 (renaming of 0.26), and the default setting will be changed to True. In 1.3, 'square_distances' will be removed altogether, and distances will be squared by default. Set 'square_distances'=True to silence this warning.\n",
            "  FutureWarning,\n"
          ]
        },
        {
          "output_type": "display_data",
          "data": {
            "text/plain": [
              "<Figure size 432x288 with 1 Axes>"
            ],
            "image/png": "[encoded data removed]"
          },
          "metadata": {
            "needs_background": "light"
          }
        },
        {
          "output_type": "stream",
          "name": "stdout",
          "text": [
            "CPU times: user 19min 7s, sys: 55.9 s, total: 20min 3s\n",
            "Wall time: 6min 21s\n"
          ]
        }
      ]
    }
  ]
}